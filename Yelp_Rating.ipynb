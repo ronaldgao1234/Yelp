{
 "cells": [
  {
   "cell_type": "markdown",
   "metadata": {},
   "source": [
    "# Yelp Rating\n",
    "Based on yelp challenge dataset, we aim to predict a review's rating.\n",
    "\n",
    "The loss function is RMSE. (Should probably use precision/recall)\n",
    "\n",
    "Data I have:\n",
    "```\n",
    "1. business:          data about each business' attributes\n",
    "2. test_queries:      predict how each of the values will turn out for that user and business\n",
    "3. train reviews:     reviews by each user about some businesses\n",
    "4. users:             data about how each user usually rates things\n",
    "5. validate_queries:  a validation set of how each user rates a business\n",
    "```"
   ]
  },
  {
   "cell_type": "markdown",
   "metadata": {},
   "source": [
    "Perez says content filtering techniques may be viable due to DL:\n",
    "    - \"Predicting Yelp Star Reviews Based on Network Structure with Deep Learning\" \n",
    "    - https://arxiv.org/abs/1712.04350\n",
    "        - Uses a user model\n",
    "        - a business model\n",
    "        - an interaction model\n",
    "Going to first try several different collaborative filtering techniques:\n",
    "1. Memory-based\n",
    "\n",
    "2. Model-based\n",
    "\n",
    "- Neural networks: (can try autoencoder)\n",
    "    - Rating matrix can be also compressed by a neural network. So called autoencoder is very similar to the matrix factorization. Deep autoencoders, with multiple hidden layers and nonlinearities are more powerful but harder to train. Neural net can be also used to preprocess item attributes so we can combine content based and collaborative approaches.\n",
    "\n",
    "- Paper with \"Deep Learning based Recommender System: A Survey and New Perspectives\"\n",
    "- UCI yelp: https://www.math.uci.edu/icamp/summer/research/student_research/recommender_systems_slides.pdf\n",
    "    - How blending is done: https://www.quora.com/How-can-I-combine-recommender-system-outputs-user-item-matrix-via-an-ensemble\n",
    "- Should split data along time dimension "
   ]
  },
  {
   "cell_type": "markdown",
   "metadata": {},
   "source": [
    "## Feature Engineering"
   ]
  },
  {
   "cell_type": "markdown",
   "metadata": {},
   "source": [
    "### Imports"
   ]
  },
  {
   "cell_type": "code",
   "execution_count": 2,
   "metadata": {},
   "outputs": [],
   "source": [
    "%reload_ext autoreload\n",
    "%autoreload 2\n",
    "%matplotlib inline"
   ]
  },
  {
   "cell_type": "code",
   "execution_count": 3,
   "metadata": {},
   "outputs": [
    {
     "data": {
      "text/plain": [
       "<torch._C.Generator at 0x253c70f5af0>"
      ]
     },
     "execution_count": 3,
     "metadata": {},
     "output_type": "execute_result"
    }
   ],
   "source": [
    "import pandas as pd\n",
    "import torch.nn as nn\n",
    "import torch.autograd\n",
    "import torch.nn.functional as F\n",
    "import torch\n",
    "import numpy as np\n",
    "from fastai.learner import *\n",
    "from fastai.column_data import *\n",
    "from torch.utils.data import DataLoader, Dataset\n",
    "import torch.optim as optim\n",
    "\n",
    "torch.manual_seed(1)\n",
    "\n",
    "# from rgao_dl.utils import *\n",
    "# from rgao_dl.data import *\n",
    "# from rgao_dl.train import *"
   ]
  },
  {
   "cell_type": "code",
   "execution_count": 4,
   "metadata": {},
   "outputs": [],
   "source": [
    "df_business = pd.read_csv('business.csv')\n",
    "train_reviews = pd.read_csv('train_reviews.csv')\n",
    "df_users = pd.read_csv('users.csv')\n",
    "\n",
    "test_queries = pd.read_csv('test_queries.csv')\n",
    "val_queries = pd.read_csv('validate_queries.csv')"
   ]
  },
  {
   "cell_type": "markdown",
   "metadata": {},
   "source": [
    "## EDA"
   ]
  },
  {
   "cell_type": "markdown",
   "metadata": {},
   "source": [
    "### Enumerate all id's\n",
    "Change id's to indicies\n",
    "user_id based on df_user (assuming has all users in the test, train and val splits)\n",
    "business_id based on df_business (assuming has all businesses)\n",
    "\n",
    "change the interaction matrix, df_business, and df_users <br>\n",
    "change train, val, and test data with the corresponding indicies"
   ]
  },
  {
   "cell_type": "code",
   "execution_count": 314,
   "metadata": {},
   "outputs": [],
   "source": [
    "# Change train_reviews. Encode user_id and business_id to 0-len\n",
    "u_unique = df_users['user_id'].unique()\n",
    "user2idx = {orig_u: idx for idx, orig_u in enumerate(u_unique)}\n",
    "trn_data['user_id'] = train_reviews['user_id'].apply(lambda x: user2idx[x])\n",
    "\n",
    "df_business['average_stars'] = df_business['stars']\n",
    "b_unique = df_business['business_id'].unique()\n",
    "business2idx = {orig_b: idx for idx, orig_b in enumerate(b_unique)}\n",
    "trn_data['business_id'] = train_reviews['business_id'].apply(lambda x: business2idx[x])\n",
    "\n",
    "# same for df_users\n",
    "user_data = df_users.drop(['name','yelping_since','elite','friends'],axis=1)\n",
    "user_data['user_id'] = user_data['user_id'].apply(lambda x: user2idx[x])\n",
    "\n",
    "# same for businesses\n",
    "bus_data = df_business.drop(['address','attributes','hours','is_open','latitude', 'longitude','state'], axis=1)\n",
    "bus_data['business_id'] = bus_data['business_id'].apply(lambda x: business2idx[x])\n",
    "\n",
    "# Same for val\n",
    "val_data = val_queries.drop(['stars','Unnamed: 0'],axis=1)\n",
    "val_data['user_id'] = val_queries['user_id'].apply(lambda x: user2idx[x])\n",
    "val_data['business_id'] = val_queries['business_id'].apply(lambda x: business2idx[x])\n",
    "\n",
    "# Same for test\n",
    "test_data = test_queries.copy()  # default is deep copy\n",
    "test_data['user_id'] = test_queries['user_id'].apply(lambda x: user2idx[x])\n",
    "test_data['business_id'] = test_queries['business_id'].apply(lambda x: business2idx[x])\n"
   ]
  },
  {
   "cell_type": "markdown",
   "metadata": {},
   "source": [
    "### Train_review.csv \n",
    "- date is included so possibility of including embeddings for time following rossman challenge\n",
    "- text is included so sentiment analysis is possible but probably not necessary since rating is included as well\n",
    "- rating (stars) is included so we already have feedback\n",
    "- categorical traits: \n",
    "    - cool, funny, useful\n",
    "    - user_id and review_id. Review_id is useless since always unique\n",
    "    \n",
    "__ Overall, I've looked around for a lot of recommender systems and I can't seem to find anything that matches my needs. Most examples are just copies of each other using the embedding neural network =(. I'm going to use that just for train_reviews to see how i do. This will be my interaction model __\n",
    "<br>\n",
    "<br>"
   ]
  },
  {
   "cell_type": "markdown",
   "metadata": {},
   "source": [
    "### Users.csv"
   ]
  },
  {
   "cell_type": "code",
   "execution_count": 13,
   "metadata": {},
   "outputs": [
    {
     "data": {
      "text/html": [
       "<div>\n",
       "<style scoped>\n",
       "    .dataframe tbody tr th:only-of-type {\n",
       "        vertical-align: middle;\n",
       "    }\n",
       "\n",
       "    .dataframe tbody tr th {\n",
       "        vertical-align: top;\n",
       "    }\n",
       "\n",
       "    .dataframe thead th {\n",
       "        text-align: right;\n",
       "    }\n",
       "</style>\n",
       "<table border=\"1\" class=\"dataframe\">\n",
       "  <thead>\n",
       "    <tr style=\"text-align: right;\">\n",
       "      <th></th>\n",
       "      <th>average_stars</th>\n",
       "      <th>compliment_cool</th>\n",
       "      <th>compliment_cute</th>\n",
       "      <th>compliment_funny</th>\n",
       "      <th>compliment_hot</th>\n",
       "      <th>compliment_list</th>\n",
       "      <th>compliment_more</th>\n",
       "      <th>compliment_note</th>\n",
       "      <th>compliment_photos</th>\n",
       "      <th>compliment_plain</th>\n",
       "      <th>...</th>\n",
       "      <th>cool</th>\n",
       "      <th>elite</th>\n",
       "      <th>fans</th>\n",
       "      <th>friends</th>\n",
       "      <th>funny</th>\n",
       "      <th>name</th>\n",
       "      <th>review_count</th>\n",
       "      <th>useful</th>\n",
       "      <th>user_id</th>\n",
       "      <th>yelping_since</th>\n",
       "    </tr>\n",
       "  </thead>\n",
       "  <tbody>\n",
       "    <tr>\n",
       "      <th>0</th>\n",
       "      <td>2.83</td>\n",
       "      <td>0</td>\n",
       "      <td>0</td>\n",
       "      <td>0</td>\n",
       "      <td>0</td>\n",
       "      <td>0</td>\n",
       "      <td>0</td>\n",
       "      <td>0</td>\n",
       "      <td>0</td>\n",
       "      <td>1</td>\n",
       "      <td>...</td>\n",
       "      <td>0</td>\n",
       "      <td>None</td>\n",
       "      <td>0</td>\n",
       "      <td>None</td>\n",
       "      <td>2</td>\n",
       "      <td>James</td>\n",
       "      <td>6</td>\n",
       "      <td>7</td>\n",
       "      <td>UxfpKHGO2dfQCdS9xLLJow</td>\n",
       "      <td>2012-04-25</td>\n",
       "    </tr>\n",
       "    <tr>\n",
       "      <th>1</th>\n",
       "      <td>3.00</td>\n",
       "      <td>0</td>\n",
       "      <td>0</td>\n",
       "      <td>0</td>\n",
       "      <td>0</td>\n",
       "      <td>0</td>\n",
       "      <td>0</td>\n",
       "      <td>0</td>\n",
       "      <td>0</td>\n",
       "      <td>0</td>\n",
       "      <td>...</td>\n",
       "      <td>0</td>\n",
       "      <td>None</td>\n",
       "      <td>0</td>\n",
       "      <td>None</td>\n",
       "      <td>0</td>\n",
       "      <td>Yvonne</td>\n",
       "      <td>4</td>\n",
       "      <td>0</td>\n",
       "      <td>Kr5NDQFPPB_01-5CDmSqVg</td>\n",
       "      <td>2015-11-30</td>\n",
       "    </tr>\n",
       "    <tr>\n",
       "      <th>2</th>\n",
       "      <td>3.09</td>\n",
       "      <td>0</td>\n",
       "      <td>0</td>\n",
       "      <td>0</td>\n",
       "      <td>0</td>\n",
       "      <td>0</td>\n",
       "      <td>0</td>\n",
       "      <td>0</td>\n",
       "      <td>0</td>\n",
       "      <td>0</td>\n",
       "      <td>...</td>\n",
       "      <td>0</td>\n",
       "      <td>None</td>\n",
       "      <td>1</td>\n",
       "      <td>None</td>\n",
       "      <td>0</td>\n",
       "      <td>Etobicoke</td>\n",
       "      <td>10</td>\n",
       "      <td>2</td>\n",
       "      <td>wfoeMtriLwZsdRzcxNTaFA</td>\n",
       "      <td>2012-11-13</td>\n",
       "    </tr>\n",
       "    <tr>\n",
       "      <th>3</th>\n",
       "      <td>4.00</td>\n",
       "      <td>0</td>\n",
       "      <td>0</td>\n",
       "      <td>0</td>\n",
       "      <td>0</td>\n",
       "      <td>0</td>\n",
       "      <td>0</td>\n",
       "      <td>0</td>\n",
       "      <td>0</td>\n",
       "      <td>0</td>\n",
       "      <td>...</td>\n",
       "      <td>0</td>\n",
       "      <td>None</td>\n",
       "      <td>0</td>\n",
       "      <td>None</td>\n",
       "      <td>0</td>\n",
       "      <td>Shirley</td>\n",
       "      <td>4</td>\n",
       "      <td>0</td>\n",
       "      <td>aXb0kCIsIbPEEUSGomrrmA</td>\n",
       "      <td>2014-09-10</td>\n",
       "    </tr>\n",
       "    <tr>\n",
       "      <th>4</th>\n",
       "      <td>4.00</td>\n",
       "      <td>0</td>\n",
       "      <td>0</td>\n",
       "      <td>0</td>\n",
       "      <td>0</td>\n",
       "      <td>0</td>\n",
       "      <td>0</td>\n",
       "      <td>0</td>\n",
       "      <td>0</td>\n",
       "      <td>0</td>\n",
       "      <td>...</td>\n",
       "      <td>0</td>\n",
       "      <td>None</td>\n",
       "      <td>0</td>\n",
       "      <td>None</td>\n",
       "      <td>0</td>\n",
       "      <td>Brian</td>\n",
       "      <td>1</td>\n",
       "      <td>0</td>\n",
       "      <td>sLrX2KGu3lc_JczAnsg0_Q</td>\n",
       "      <td>2015-03-22</td>\n",
       "    </tr>\n",
       "  </tbody>\n",
       "</table>\n",
       "<p>5 rows × 22 columns</p>\n",
       "</div>"
      ],
      "text/plain": [
       "   average_stars  compliment_cool  compliment_cute  compliment_funny  \\\n",
       "0           2.83                0                0                 0   \n",
       "1           3.00                0                0                 0   \n",
       "2           3.09                0                0                 0   \n",
       "3           4.00                0                0                 0   \n",
       "4           4.00                0                0                 0   \n",
       "\n",
       "   compliment_hot  compliment_list  compliment_more  compliment_note  \\\n",
       "0               0                0                0                0   \n",
       "1               0                0                0                0   \n",
       "2               0                0                0                0   \n",
       "3               0                0                0                0   \n",
       "4               0                0                0                0   \n",
       "\n",
       "   compliment_photos  compliment_plain      ...        cool  elite  fans  \\\n",
       "0                  0                 1      ...           0   None     0   \n",
       "1                  0                 0      ...           0   None     0   \n",
       "2                  0                 0      ...           0   None     1   \n",
       "3                  0                 0      ...           0   None     0   \n",
       "4                  0                 0      ...           0   None     0   \n",
       "\n",
       "  friends  funny       name  review_count useful                 user_id  \\\n",
       "0    None      2      James             6      7  UxfpKHGO2dfQCdS9xLLJow   \n",
       "1    None      0     Yvonne             4      0  Kr5NDQFPPB_01-5CDmSqVg   \n",
       "2    None      0  Etobicoke            10      2  wfoeMtriLwZsdRzcxNTaFA   \n",
       "3    None      0    Shirley             4      0  aXb0kCIsIbPEEUSGomrrmA   \n",
       "4    None      0      Brian             1      0  sLrX2KGu3lc_JczAnsg0_Q   \n",
       "\n",
       "   yelping_since  \n",
       "0     2012-04-25  \n",
       "1     2015-11-30  \n",
       "2     2012-11-13  \n",
       "3     2014-09-10  \n",
       "4     2015-03-22  \n",
       "\n",
       "[5 rows x 22 columns]"
      ]
     },
     "execution_count": 13,
     "metadata": {},
     "output_type": "execute_result"
    }
   ],
   "source": [
    "df_users.head()"
   ]
  },
  {
   "cell_type": "markdown",
   "metadata": {
    "heading_collapsed": true
   },
   "source": [
    "#### Missing values"
   ]
  },
  {
   "cell_type": "code",
   "execution_count": 32,
   "metadata": {
    "hidden": true
   },
   "outputs": [
    {
     "data": {
      "text/plain": [
       "[0, 0, 0, 0, 0, 0, 0, 0, 0, 0, 0, 0, 0, 0, 0, 0, 0, 15, 0, 0, 0, 0]"
      ]
     },
     "execution_count": 32,
     "metadata": {},
     "output_type": "execute_result"
    }
   ],
   "source": [
    "n = [df_users[c].isnull().sum() for c in df_users.columns]\n",
    "n"
   ]
  },
  {
   "cell_type": "markdown",
   "metadata": {
    "hidden": true
   },
   "source": [
    "only missing 15 names for each of the users?"
   ]
  },
  {
   "cell_type": "markdown",
   "metadata": {},
   "source": [
    "#### Distribution of review counts"
   ]
  },
  {
   "cell_type": "code",
   "execution_count": 180,
   "metadata": {},
   "outputs": [
    {
     "data": {
      "text/plain": [
       "<matplotlib.axes._subplots.AxesSubplot at 0x253f05baac8>"
      ]
     },
     "execution_count": 180,
     "metadata": {},
     "output_type": "execute_result"
    },
    {
     "data": {
      "image/png": "[encoded data removed]",
      "text/plain": [
       "<Figure size 432x288 with 1 Axes>"
      ]
     },
     "metadata": {
      "needs_background": "light"
     },
     "output_type": "display_data"
    }
   ],
   "source": [
    "sns.distplot((df_users.review_count[(df_users.review_count > 0) & (df_users.review_count < 100)]), kde=False, rug=True)"
   ]
  },
  {
   "cell_type": "markdown",
   "metadata": {},
   "source": [
    "Generally people aren't doing any reviews"
   ]
  },
  {
   "cell_type": "markdown",
   "metadata": {
    "heading_collapsed": true
   },
   "source": [
    "### business.csv thoughts"
   ]
  },
  {
   "cell_type": "markdown",
   "metadata": {
    "heading_collapsed": true,
    "hidden": true
   },
   "source": [
    "#### Sparsity\n",
    "lots of missing values in the attributes"
   ]
  },
  {
   "cell_type": "code",
   "execution_count": 12,
   "metadata": {
    "hidden": true
   },
   "outputs": [
    {
     "data": {
      "text/plain": [
       "<matplotlib.axes._subplots.AxesSubplot at 0x259b13536d8>"
      ]
     },
     "execution_count": 12,
     "metadata": {},
     "output_type": "execute_result"
    },
    {
     "data": {
      "image/png": "[encoded data removed]",
      "text/plain": [
       "<Figure size 432x288 with 1 Axes>"
      ]
     },
     "metadata": {
      "needs_background": "light"
     },
     "output_type": "display_data"
    }
   ],
   "source": [
    "missing_bus = df_business.isnull().sum()\n",
    "missing_bus = missing_bus[missing_bus > 0]\n",
    "missing_bus.sort_values(inplace=True)\n",
    "missing_bus.plot.bar()"
   ]
  },
  {
   "cell_type": "code",
   "execution_count": 36,
   "metadata": {
    "hidden": true
   },
   "outputs": [
    {
     "data": {
      "text/plain": [
       "array([ 100,  101,  102, ..., 6446, 7866, 7968], dtype=int64)"
      ]
     },
     "execution_count": 36,
     "metadata": {},
     "output_type": "execute_result"
    }
   ],
   "source": [
    "s = df_business.review_count.unique()\n",
    "s.sort()\n",
    "s"
   ]
  },
  {
   "cell_type": "markdown",
   "metadata": {
    "hidden": true
   },
   "source": [
    "Seems I don't need to eliminate any small outliers for review count since the lowest is 100 reviews"
   ]
  },
  {
   "cell_type": "markdown",
   "metadata": {},
   "source": [
    "# Modeling"
   ]
  },
  {
   "cell_type": "markdown",
   "metadata": {
    "heading_collapsed": true
   },
   "source": [
    "## Baseline\n",
    "\n",
    "Baseline estimate rating: $b_{u,i} = \\mu + b_u + b_i $ \n",
    "(Using 1 if b_u or b_i is missing)\n",
    "- $\\mu$ the mean rating of all ratings in the system\n",
    "- $b_u$ abs(average rating of user u and $\\mu$)\n",
    "- $b_i$ abs(average rating of business i and $\\mu$)"
   ]
  },
  {
   "cell_type": "code",
   "execution_count": 186,
   "metadata": {
    "hidden": true
   },
   "outputs": [],
   "source": [
    "b_u = {u: train_reviews[train_reviews.user_id == u].stars.mean() for u in val_queries.user_id.unique()}\n",
    "b_u = pd.DataFrame.from_dict(b_u, orient='index', columns=['vals'])\n",
    "b_u = b_u.vals.fillna(1)"
   ]
  },
  {
   "cell_type": "code",
   "execution_count": 187,
   "metadata": {
    "hidden": true,
    "scrolled": false
   },
   "outputs": [],
   "source": [
    "# business_id\n",
    "# b_b = []; b_dict = dict()\n",
    "# for b in val_queries.business_id:\n",
    "#     if b in b_dict:\n",
    "#         b_b.append(b_dict[b])\n",
    "#     else:\n",
    "#         avg = val_queries[val_queries.business_id == b].stars.mean()\n",
    "#         b_dict[b] = avg\n",
    "#         b_b.append(avg)\n",
    "# len(b_b)\n",
    "        \n",
    "\n",
    "\n",
    "b_unique = df_business.business_id.unique()\n",
    "b_i = dict()\n",
    "for b in val_queries.business_id.unique():\n",
    "    if b in b_unique: \n",
    "        b_i[b] = df_business[df_business.business_id == b].iloc[0]['stars']\n",
    "    else: \n",
    "        b_i[b] = 1"
   ]
  },
  {
   "cell_type": "code",
   "execution_count": 199,
   "metadata": {
    "hidden": true
   },
   "outputs": [],
   "source": [
    "mu = train_reviews.stars.mean()\n",
    "b_u_ = [b_u[u] for u in val_queries.user_id]\n",
    "b_b_ = [b_i[i] for i in val_queries.business_id]"
   ]
  },
  {
   "cell_type": "code",
   "execution_count": 200,
   "metadata": {
    "hidden": true
   },
   "outputs": [],
   "source": [
    "np_b = np.asarray(b_b_)\n",
    "np_u = np.asarray(b_u_)\n",
    "preds = (np_b - mu) + (np_u - mu) + mu"
   ]
  },
  {
   "cell_type": "code",
   "execution_count": 201,
   "metadata": {
    "hidden": true
   },
   "outputs": [
    {
     "data": {
      "text/plain": [
       "2.1334241802488543"
      ]
     },
     "execution_count": 201,
     "metadata": {},
     "output_type": "execute_result"
    }
   ],
   "source": [
    "# RMSE\n",
    "from sklearn.metrics import mean_squared_error\n",
    "from math import sqrt\n",
    "y_predicted = preds\n",
    "y_actual = val_queries.stars.values\n",
    "rmse_error = sqrt(mean_squared_error(y_actual, y_predicted))\n",
    "rmse_error "
   ]
  },
  {
   "cell_type": "markdown",
   "metadata": {},
   "source": [
    "# Collaborative Filtering"
   ]
  },
  {
   "cell_type": "markdown",
   "metadata": {},
   "source": [
    "## First Method: Only EmbeddingNet (Matrix factorization method)\n",
    "- Drop everything except the business_id, user_id, and rating makes a typical rating matrix perfect for an embedding net"
   ]
  },
  {
   "cell_type": "markdown",
   "metadata": {
    "heading_collapsed": true
   },
   "source": [
    "#### Drop columns"
   ]
  },
  {
   "cell_type": "code",
   "execution_count": 5,
   "metadata": {
    "hidden": true
   },
   "outputs": [
    {
     "data": {
      "text/html": [
       "<div>\n",
       "<style scoped>\n",
       "    .dataframe tbody tr th:only-of-type {\n",
       "        vertical-align: middle;\n",
       "    }\n",
       "\n",
       "    .dataframe tbody tr th {\n",
       "        vertical-align: top;\n",
       "    }\n",
       "\n",
       "    .dataframe thead th {\n",
       "        text-align: right;\n",
       "    }\n",
       "</style>\n",
       "<table border=\"1\" class=\"dataframe\">\n",
       "  <thead>\n",
       "    <tr style=\"text-align: right;\">\n",
       "      <th></th>\n",
       "      <th>business_id</th>\n",
       "      <th>stars</th>\n",
       "      <th>user_id</th>\n",
       "    </tr>\n",
       "  </thead>\n",
       "  <tbody>\n",
       "    <tr>\n",
       "      <th>0</th>\n",
       "      <td>WPCgtEG-bJt0cZtnM-x7yw</td>\n",
       "      <td>4.0</td>\n",
       "      <td>VDh1vjzpNUJH6HfcjH8g7Q</td>\n",
       "    </tr>\n",
       "    <tr>\n",
       "      <th>1</th>\n",
       "      <td>LnnO7quTjjdTUkCshSJnkA</td>\n",
       "      <td>5.0</td>\n",
       "      <td>HnnjIuLrdhLTsRRVrrFIjA</td>\n",
       "    </tr>\n",
       "    <tr>\n",
       "      <th>2</th>\n",
       "      <td>sKrlmbrZWCyLIgiMihCPqw</td>\n",
       "      <td>5.0</td>\n",
       "      <td>HnnjIuLrdhLTsRRVrrFIjA</td>\n",
       "    </tr>\n",
       "    <tr>\n",
       "      <th>3</th>\n",
       "      <td>Lh5qnT2m2b4lvyYiMGMDkg</td>\n",
       "      <td>4.0</td>\n",
       "      <td>HnnjIuLrdhLTsRRVrrFIjA</td>\n",
       "    </tr>\n",
       "    <tr>\n",
       "      <th>4</th>\n",
       "      <td>54LYVM1gCGQ2UVFK9QhgTw</td>\n",
       "      <td>5.0</td>\n",
       "      <td>HnnjIuLrdhLTsRRVrrFIjA</td>\n",
       "    </tr>\n",
       "  </tbody>\n",
       "</table>\n",
       "</div>"
      ],
      "text/plain": [
       "              business_id  stars                 user_id\n",
       "0  WPCgtEG-bJt0cZtnM-x7yw    4.0  VDh1vjzpNUJH6HfcjH8g7Q\n",
       "1  LnnO7quTjjdTUkCshSJnkA    5.0  HnnjIuLrdhLTsRRVrrFIjA\n",
       "2  sKrlmbrZWCyLIgiMihCPqw    5.0  HnnjIuLrdhLTsRRVrrFIjA\n",
       "3  Lh5qnT2m2b4lvyYiMGMDkg    4.0  HnnjIuLrdhLTsRRVrrFIjA\n",
       "4  54LYVM1gCGQ2UVFK9QhgTw    5.0  HnnjIuLrdhLTsRRVrrFIjA"
      ]
     },
     "execution_count": 5,
     "metadata": {},
     "output_type": "execute_result"
    }
   ],
   "source": [
    "# drop tons of columns\n",
    "trn_data = train_reviews.drop(['review_id', 'text', 'date', 'cool', 'funny', 'useful'], axis=1)\n",
    "trn_data.head()"
   ]
  },
  {
   "cell_type": "markdown",
   "metadata": {
    "hidden": true
   },
   "source": [
    "there is time included. Can't use any naive assumption that the reviews IID since each review will most likely have some sort of influence on the one before it. "
   ]
  },
  {
   "cell_type": "markdown",
   "metadata": {
    "heading_collapsed": true
   },
   "source": [
    "#### Missing Values"
   ]
  },
  {
   "cell_type": "markdown",
   "metadata": {
    "hidden": true
   },
   "source": [
    "No missing values?  a godsend"
   ]
  },
  {
   "cell_type": "code",
   "execution_count": 29,
   "metadata": {
    "hidden": true
   },
   "outputs": [
    {
     "data": {
      "text/plain": [
       "business_id    0\n",
       "user_id        0\n",
       "dtype: int64"
      ]
     },
     "execution_count": 29,
     "metadata": {},
     "output_type": "execute_result"
    }
   ],
   "source": [
    "miss_trn = trn_data.isnull().sum()\n",
    "miss_trn"
   ]
  },
  {
   "cell_type": "markdown",
   "metadata": {
    "heading_collapsed": true
   },
   "source": [
    "### Model"
   ]
  },
  {
   "cell_type": "code",
   "execution_count": 7,
   "metadata": {
    "hidden": true
   },
   "outputs": [],
   "source": [
    "class EmbeddingNet(nn.Module):\n",
    "    def __init__(self, n_users, n_movies, max_rating, min_rating, nh=10, p1=0.05, p2=0.5, n_factors=50):\n",
    "        super().__init__()\n",
    "        self.max_rating = max_rating\n",
    "        self.min_rating = min_rating\n",
    "        (self.u, self.m) = [self.get_emb(*o) for o in [\n",
    "            (n_users, n_factors), (n_movies, n_factors)]]\n",
    "        self.lin1 = nn.Linear(n_factors * 2, nh)   # linear layer already includes a bias\n",
    "        self.lin2 = nn.Linear(nh, 1)\n",
    "        self.drop1 = nn.Dropout(p1)\n",
    "        self.drop2 = nn.Dropout(p2)\n",
    "\n",
    "    def get_emb(self, ni, nf):\n",
    "        e = nn.Embedding(ni, nf)\n",
    "        e.weight.data.uniform_(0.0, 0.01)\n",
    "        return e\n",
    "\n",
    "    def forward(self, cats, conts):\n",
    "        users, movies = cats[:, 0], cats[:, 1]\n",
    "        x = self.drop1(torch.cat([self.u(users), self.m(movies)], dim=1))\n",
    "        x = self.drop2(F.relu(self.lin1(x)))\n",
    "        # rounding this output gave worse results\n",
    "        return torch.sigmoid(self.lin2(x)) * (self.max_rating - self.min_rating + 1) + min_rating - 0.5"
   ]
  },
  {
   "cell_type": "markdown",
   "metadata": {
    "heading_collapsed": true
   },
   "source": [
    "### Stuff that Works"
   ]
  },
  {
   "cell_type": "code",
   "execution_count": 8,
   "metadata": {
    "hidden": true
   },
   "outputs": [],
   "source": [
    "class ModelData():\n",
    "    '''Encapsulates all Dataloaders'''\n",
    "    def __init__(self, trn_dl, val_dl, test_dl=None):   \n",
    "        self.trn_dl, self.val_dl, self.test_dl = trn_dl, val_dl, test_dl"
   ]
  },
  {
   "cell_type": "code",
   "execution_count": 9,
   "metadata": {
    "hidden": true
   },
   "outputs": [],
   "source": [
    "# __getitem__ makes it an iterable. for loops take iteratorse which have a __next__ method\n",
    "class CustomDataset(Dataset):\n",
    "    def __init__(self, df, cat_flds, y=None, is_reg=True):\n",
    "        '''Separate into x,y data'''\n",
    "        cats = df[cat_flds]\n",
    "        conts = df.drop(cat_flds, axis=1)\n",
    "        \n",
    "        # items iterates over columnname, Series pairs\n",
    "        cat_cols = [c.values for n, c in cats.items()] # each n is moveId or userId, each c is all the Series data\n",
    "        cont_cols = [c.values for n, c in conts.items()]\n",
    "        \n",
    "        n = len(cat_cols[0]) if cat_cols else len(cont_cols[0])\n",
    "        # its really important that this is int64 for some reason       ######~TODO: Find out why~######\n",
    "        # Form a list of lists. in the inner list is each pair (user, movie). self.cats is nparray\n",
    "        self.cats = np.stack(cat_cols, axis=1).astype(np.int64) if cat_cols else np.zeros((n,1))\n",
    "        self.conts = np.stack(cont_cols,axis=1).astype(np.float32) if cont_cols else np.zeros((n,1))\n",
    "        self.y     = np.zeros((n,1))                       if y is None else y\n",
    "        \n",
    "        if is_reg:\n",
    "            self.y =  self.y[:,np.newaxis]\n",
    "        self.is_reg = is_reg\n",
    "        \n",
    "    def __getitem__(self, idx):\n",
    "        '''Get an item from x, y data'''\n",
    "        return self.cats[idx], self.conts[idx], self.y[idx]\n",
    "    \n",
    "    def __len__(self):\n",
    "        '''Return length of dataset'''\n",
    "        return len(self.y)"
   ]
  },
  {
   "cell_type": "markdown",
   "metadata": {
    "heading_collapsed": true,
    "hidden": true
   },
   "source": [
    "#### Stepper"
   ]
  },
  {
   "cell_type": "code",
   "execution_count": 10,
   "metadata": {
    "hidden": true
   },
   "outputs": [],
   "source": [
    "class Stepper():\n",
    "    def __init__(self, m, opt, crit):\n",
    "        self.m,self.opt,self.crit = m,opt,crit\n",
    "        self.reset(True)\n",
    "        \n",
    "    def reset(self, train=True):\n",
    "        if train:\n",
    "            layers = self.m.modules()\n",
    "            if isinstance(self.m, nn.Module): self.m.train()\n",
    "            for l in layers: l.train()\n",
    "        else:\n",
    "            #val\n",
    "            self.m.eval()\n",
    "\n",
    "    def step(self, xs, y, epoch):\n",
    "        xtra = []\n",
    "        output = self.m(*xs)\n",
    "        self.opt.zero_grad()\n",
    "        loss = raw_loss = self.crit(output, y)\n",
    "        # for RMSE!!!!!!!!!!!!!!!!!!!!!!!!!!!!!!!!!!!!!!!!!!!!!!!!!!!!!!!!!!!!!!!!!\n",
    "        loss = torch.sqrt(loss); raw_loss = torch.sqrt(raw_loss)\n",
    "        loss.backward()\n",
    "        if 'wd' in self.opt.param_groups[0] and self.opt.param_groups[0]['wd'] != 0: \n",
    "            #Weight decay out of the loss. After the gradient computation but before the step.\n",
    "            for group in self.opt.param_groups:\n",
    "                lr, wd = group['lr'], group['wd']\n",
    "                for p in group['params']:\n",
    "                    if p.grad is not None: p.data = p.data.add(-wd * lr, p.data)\n",
    "        self.opt.step()\n",
    "        return torch_item(raw_loss.data)\n",
    "    \n",
    "    def evaluate(self, xs, y):\n",
    "        preds = self.m(*xs)\n",
    "        if isinstance(preds,tuple): preds=preds[0]\n",
    "        return preds, self.crit(preds, y)"
   ]
  },
  {
   "cell_type": "code",
   "execution_count": 11,
   "metadata": {
    "hidden": true
   },
   "outputs": [],
   "source": [
    "def split_by_idx(idxs, *a):\n",
    "        \"\"\"\n",
    "        Split each array passed as *a, to a pair of arrays like this (elements selected by idxs,  the remaining elements)\n",
    "        This can be used to split multiple arrays containing training data to validation and training set.\n",
    "        :param idxs [int]: list of indexes selected\n",
    "        :param a list: list of np.array, each array should have same amount of elements in the first dimension\n",
    "        :return: list of tuples, each containing a split of corresponding array from *a.\n",
    "                First element of each tuple is an array composed from elements selected by idxs,\n",
    "                second element is an array of remaining elements.\n",
    "        \"\"\"\n",
    "        mask = np.zeros(len(a[0]),dtype=bool)\n",
    "        mask[np.array(idxs)] = True\n",
    "        return [(o[mask],o[~mask]) for o in a]\n",
    "\n",
    "# For updating learning rate\n",
    "def update_lr(optimizer, lr):    \n",
    "    for param_group in optimizer.param_groups:\n",
    "        param_group['lr'] = lr\n",
    "\n",
    "IS_TORCH_04 = LooseVersion(torch.__version__) >= LooseVersion('0.4')\n",
    "def create_variable(x, volatile, requires_grad=False):\n",
    "    if type (x) != Variable:\n",
    "        if IS_TORCH_04: x = Variable(T(x), requires_grad=requires_grad)\n",
    "        else:           x = Variable(T(x), requires_grad=requires_grad, volatile=volatile)\n",
    "    return x\n",
    "\n",
    "def is_listy(x): return isinstance(x, (list,tuple))\n",
    "\n",
    "def map_over(x, f): return [f(o) for o in x] if is_listy(x) else f(x)\n",
    "\n",
    "def V_(x, requires_grad=False, volatile=False):\n",
    "    '''equivalent to create_variable, which creates a pytorch tensor'''\n",
    "    return create_variable(x, volatile=volatile, requires_grad=requires_grad)\n",
    "\n",
    "def V(x, requires_grad=False, volatile=False):\n",
    "    '''creates a single or a list of pytorch tensors, depending on input x. '''\n",
    "    return map_over(x, lambda o: V_(o, requires_grad, volatile))  \n",
    "\n",
    "def T(a, half=False, cuda=True):\n",
    "    \"\"\"\n",
    "    Convert numpy array into a pytorch tensor. \n",
    "    if Cuda is available and USE_GPU=ture, store resulting tensor in GPU.\n",
    "    \"\"\"\n",
    "    if not torch.is_tensor(a):\n",
    "        a = np.array(np.ascontiguousarray(a))\n",
    "        if a.dtype in (np.int8, np.int16, np.int32, np.int64):\n",
    "            a = torch.LongTensor(a.astype(np.int64))\n",
    "        elif a.dtype in (np.float32, np.float64):\n",
    "            a = torch.cuda.HalfTensor(a) if half else torch.FloatTensor(a)\n",
    "        else: raise NotImplementedError(a.dtype)\n",
    "#     if cuda: a = to_gpu(a)\n",
    "    return a"
   ]
  },
  {
   "cell_type": "markdown",
   "metadata": {
    "heading_collapsed": true
   },
   "source": [
    "### Train"
   ]
  },
  {
   "cell_type": "code",
   "execution_count": 12,
   "metadata": {
    "hidden": true
   },
   "outputs": [],
   "source": [
    "from math import sqrt\n",
    "def train(model, data, n_epochs, opt, crit):\n",
    "    avg_mom = 0.98\n",
    "    batch_num,avg_loss = 0,0\n",
    "    model_stepper = Stepper(model, opt, crit)\n",
    "    cnt_phases = np.array([n_epochs * len(data.trn_dl)]).cumsum()\n",
    "    phase = 0  # only going to be one phase\n",
    "    final_preds = dict()\n",
    "    lowest_val_loss = 999\n",
    "    \n",
    "    for epoch in tnrange(n_epochs, desc=\"Epoch\"):\n",
    "        if phase >= n_epochs: break #Sometimes cumulated errors make this append.\n",
    "        model_stepper.reset(True)\n",
    "        cur_data = data\n",
    "        t = tqdm(iter(cur_data.trn_dl), leave=False, total=len(cur_data.trn_dl), miniters=0)\n",
    "        for (*x,y) in t:\n",
    "            # x is list of 2 lists and y is torch float tensor \n",
    "            batch_num += 1\n",
    "            loss = model_stepper.step(V(x), V(y), epoch)\n",
    "            avg_loss = avg_loss * avg_mom + loss * (1-avg_mom)\n",
    "            debias_loss = avg_loss / (1 - avg_mom**batch_num)\n",
    "            t.set_postfix(loss=debias_loss, refresh=False)\n",
    "            rmse_train_loss = debias_loss\n",
    "\n",
    "            # just in case\n",
    "            if batch_num >=cnt_phases[phase]:\n",
    "                phase += 1\n",
    "                if phase >= n_epochs:\n",
    "                    t.close()\n",
    "                    break\n",
    "#                     if cur_data != data:\n",
    "#                         t.close()\n",
    "#                         break\n",
    "        val_loss = 0\n",
    "        batch_cnts, loss, res = [],[],[]\n",
    "        model_stepper.reset(False)\n",
    "        epoch_preds = []\n",
    "        with no_grad_context():\n",
    "            t = tqdm(iter(cur_data.val_dl), leave=True, total=2, miniters=0, desc='Validation')\n",
    "            for (*x,y) in t:\n",
    "                preds, l = model_stepper.evaluate(V(x), V(y))\n",
    "                epoch_preds.append(preds.data)                \n",
    "                batch_cnts.append(x[0].shape[0])  # append the batch size\n",
    "                if isinstance(l, Variable): l=l.data\n",
    "                loss.append(l)\n",
    "#             loss = [torch.sqrt(l) for l in loss]\n",
    "            # averaging across batches.  FOR RMSE!!!!!!!!!!!!!!!!!!!!!!!!!!!!!!!!!!!!!!!!!!!!!!!!!!!!!!!\n",
    "            val_loss = sqrt(np.average(loss, 0, weights=batch_cnts))\n",
    "            if val_loss < lowest_val_loss: final_preds[0] = epoch_preds; final_preds[1] = epoch\n",
    "        print(\"Epoch [{}/{}], RMSE Train Loss: {:.4f}, RMSE Val Loss: {:.4f}\"\n",
    "              .format(epoch+1, n_epochs, rmse_train_loss , val_loss))\n",
    "    return final_preds   "
   ]
  },
  {
   "cell_type": "code",
   "execution_count": 45,
   "metadata": {
    "hidden": true
   },
   "outputs": [],
   "source": [
    "def makeDataLoaders(wantTrainPreds=False):\n",
    "    trn_x = trn_data\n",
    "    trn_y = train_reviews['stars'].astype(np.float32)\n",
    "    # val_idxs = get_cv_idxs(len(trn_data))\n",
    "    # ((val_df, trn_df), (val_y, trn_y)) = split_by_idx(val_idxs, x, y)  #<- some users in val that isn't in train\n",
    "    # Reorder\n",
    "    \n",
    "    val_x = val_data\n",
    "    val_y = val_queries['stars'].astype(np.float32)\n",
    "\n",
    "    cat_flds = ['user_id', 'business_id']\n",
    "    bs = 64\n",
    "    trn_ds, val_ds = None, None\n",
    "    if not wantTrainPreds:\n",
    "        trn_ds = CustomDataset(trn_x, cat_flds, trn_y, is_reg=True)\n",
    "        val_ds = CustomDataset(val_x, cat_flds, val_y, is_reg=True)\n",
    "    else:\n",
    "        trn_ds = CustomDataset(trn_x, cat_flds, trn_y, is_reg=True)\n",
    "        val_ds = CustomDataset(trn_x, cat_flds, trn_y, is_reg=True)\n",
    "        \n",
    "    trn_dl = DataLoader(trn_ds, bs, shuffle=True, num_workers=0)\n",
    "    val_dl = DataLoader(val_ds, bs*2, shuffle=False, num_workers=0)  #not sure why batch size for val is times 2\n",
    "\n",
    "    return trn_dl, val_dl\n",
    "   "
   ]
  },
  {
   "cell_type": "code",
   "execution_count": 46,
   "metadata": {
    "hidden": true,
    "scrolled": false
   },
   "outputs": [
    {
     "data": {
      "application/vnd.jupyter.widget-view+json": {
       "model_id": "ba50051f586e4732a9410b9baea19bce",
       "version_major": 2,
       "version_minor": 0
      },
      "text/plain": [
       "HBox(children=(IntProgress(value=0, description='Epoch', max=3, style=ProgressStyle(description_width='initial…"
      ]
     },
     "metadata": {},
     "output_type": "display_data"
    },
    {
     "name": "stdout",
     "output_type": "stream",
     "text": [
      "Validation: 1174it [00:01, 593.02it/s]                                                                                 \n",
      "Epoch [1/3], RMSE Train Loss: 1.1412, RMSE Val Loss: 1.1509\n",
      "Validation: 1174it [00:01, 666.18it/s]                                                                                 \n",
      "Epoch [2/3], RMSE Train Loss: 1.1510, RMSE Val Loss: 1.1500\n",
      "Validation: 1174it [00:01, 635.60it/s]                                                                                 \n",
      "Epoch [3/3], RMSE Train Loss: 1.1288, RMSE Val Loss: 1.1162\n",
      "\n"
     ]
    }
   ],
   "source": [
    "# Get number of unique inside all users and businesses\n",
    "n_users = len(u_unique)\n",
    "n_bus = len(b_unique)\n",
    "min_rating, max_rating = train_reviews['stars'].min(), train_reviews['stars'].max()\n",
    "if __name__ == '__main__':\n",
    "    trn_dl,val_dl = makeDataLoaders(True)\n",
    "    \n",
    "    # Make ModelData\n",
    "    model_data =  ModelData(trn_dl, val_dl)\n",
    "    \n",
    "    # Model\n",
    "    model = EmbeddingNet(n_users, n_bus, max_rating, min_rating)\n",
    "\n",
    "    # because models parent is nn.Module, we get model.parameters() for free. auto gives weights to get updated\n",
    "    opt = optim.SGD(model.parameters(), 1e-1 , weight_decay=1e-5, momentum=0.95)\n",
    "\n",
    "    set_lrs(opt, .01)\n",
    "    final_preds = train(model, model_data, 3, opt, F.mse_loss)    "
   ]
  },
  {
   "cell_type": "markdown",
   "metadata": {
    "hidden": true
   },
   "source": [
    "Results without Adam or any tuning is around 1.13"
   ]
  },
  {
   "cell_type": "code",
   "execution_count": 47,
   "metadata": {
    "hidden": true
   },
   "outputs": [
    {
     "data": {
      "text/plain": [
       "150232"
      ]
     },
     "execution_count": 47,
     "metadata": {},
     "output_type": "execute_result"
    }
   ],
   "source": [
    "# flat preds is currently for validation\n",
    "flat_preds = []\n",
    "for sublist in final_preds[0]:\n",
    "    for item in sublist:\n",
    "        flat_preds.append(item)\n",
    "flat_preds = [p.numpy()[0] for p in flat_preds]\n",
    "len(flat_preds)"
   ]
  },
  {
   "cell_type": "markdown",
   "metadata": {
    "heading_collapsed": true
   },
   "source": [
    "## FASTAI"
   ]
  },
  {
   "cell_type": "markdown",
   "metadata": {
    "hidden": true
   },
   "source": [
    "A large part why this isn't working is because there are several users that are in validation set but not in training which results in just ratings based off the random initialized values"
   ]
  },
  {
   "cell_type": "code",
   "execution_count": 4,
   "metadata": {
    "hidden": true
   },
   "outputs": [],
   "source": [
    "val_idxs = get_cv_idxs(len(trn_data))\n",
    "wd=2e-4\n",
    "n_factors = 50"
   ]
  },
  {
   "cell_type": "code",
   "execution_count": 6,
   "metadata": {
    "hidden": true
   },
   "outputs": [],
   "source": [
    "path='./'\n",
    "cf = CollabFilterDataset.from_csv(path, 'train_reviews.csv', 'user_id', 'business_id', 'stars')\n",
    "learn = cf.get_learner(n_factors, val_idxs, 64, opt_fn=optim.Adam)"
   ]
  },
  {
   "cell_type": "code",
   "execution_count": 8,
   "metadata": {
    "hidden": true,
    "scrolled": true
   },
   "outputs": [
    {
     "data": {
      "application/vnd.jupyter.widget-view+json": {
       "model_id": "92660465b1bb46c99732440a928da9e4",
       "version_major": 2,
       "version_minor": 0
      },
      "text/plain": [
       "HBox(children=(IntProgress(value=0, description='Epoch', max=1023, style=ProgressStyle(description_width='init…"
      ]
     },
     "metadata": {},
     "output_type": "display_data"
    },
    {
     "name": "stdout",
     "output_type": "stream",
     "text": [
      "epoch      trn_loss   val_loss                                                                                         \n",
      "    0      1.202899   1.241367  \n",
      "    1      1.198752   1.216048                                                                                         \n",
      "    2      1.142173   1.215619                                                                                         \n",
      "    3      1.217894   1.220885                                                                                         \n",
      "    4      1.174414   1.211756                                                                                         \n",
      "    5      1.171034   1.211187                                                                                         \n",
      "    6      1.076235   1.212531                                                                                         \n",
      "    7      1.212821   1.226129                                                                                         \n",
      "    8      1.196537   1.219818                                                                                         \n",
      "    9      1.184442   1.213604                                                                                         \n",
      "    10     1.192816   1.210171                                                                                         \n",
      "    11     1.159486   1.210021                                                                                         \n",
      "    12     1.148756   1.211316                                                                                         \n",
      "    13     1.111599   1.212234                                                                                         \n",
      "    14     1.066269   1.212666                                                                                         \n",
      "    15     1.211333   1.223939                                                                                         \n",
      "    16     1.229362   1.219663                                                                                         \n",
      "    17     1.214482   1.223578                                                                                         \n",
      "    18     1.186484   1.2197                                                                                           \n",
      "    19     1.222481   1.216263                                                                                         \n",
      "    20     1.1656     1.213523                                                                                         \n",
      "    21     1.183064   1.214217                                                                                         \n",
      "    22     1.156804   1.212602                                                                                         \n",
      "    23     1.164921   1.211553                                                                                         \n",
      "    24     1.175579   1.211589                                                                                         \n",
      "    25     1.15659    1.212072                                                                                         \n",
      "    26     1.122313   1.212683                                                                                         \n",
      "    27     1.107969   1.213315                                                                                         \n",
      "    28     1.093079   1.213757                                                                                         \n",
      "    29     1.078334   1.214045                                                                                         \n",
      "    30     1.055955   1.214048                                                                                         \n",
      "    31     1.1916     1.224807                                                                                         \n",
      "    32     1.1824     1.223347                                                                                         \n",
      "    33     1.232554   1.226368                                                                                         \n",
      "    34     1.194638   1.222141                                                                                         \n",
      "    35     1.167014   1.223139                                                                                         \n",
      "    36     1.193146   1.219599                                                                                         \n",
      "    37     1.204146   1.216126                                                                                         \n",
      "    38     1.202513   1.218518                                                                                         \n",
      "    39     1.192394   1.217221                                                                                         \n",
      "    40     1.195316   1.216019                                                                                         \n",
      "    41     1.19432    1.215109                                                                                         \n",
      "    42     1.203286   1.216569                                                                                         \n",
      "    43     1.187693   1.214879                                                                                         \n",
      "    44     1.165387   1.21429                                                                                          \n",
      "    45     1.182366   1.213602                                                                                         \n",
      "    46     1.219868   1.212705                                                                                         \n",
      "    47     1.195158   1.211933                                                                                         \n",
      "    48     1.146343   1.210387                                                                                         \n",
      "    49     1.152869   1.209863                                                                                         \n",
      "    50     1.179947   1.211873                                                                                         \n",
      "    51     1.151116   1.212231                                                                                         \n",
      "    52     1.126125   1.212459                                                                                         \n",
      "    53     1.120674   1.212846                                                                                         \n",
      "    54     1.10907    1.212958                                                                                         \n",
      "    55     1.097827   1.213432                                                                                         \n",
      "    56     1.11178    1.213725                                                                                         \n",
      "    57     1.107069   1.214098                                                                                         \n",
      "    58     1.081467   1.214444                                                                                         \n",
      "    59     1.068621   1.214624                                                                                         \n",
      "    60     1.070327   1.214756                                                                                         \n",
      "    61     1.07738    1.214796                                                                                         \n",
      "    62     1.087239   1.214808                                                                                         \n",
      "    63     1.211175   1.221909                                                                                         \n",
      "    64     1.221775   1.224352                                                                                         \n",
      "    65     1.200002   1.225272                                                                                         \n",
      "    66     1.214875   1.22246                                                                                          \n",
      "    67     1.235391   1.223677                                                                                         \n",
      "    68     1.207006   1.220811                                                                                         \n",
      "    69     1.201079   1.226929                                                                                         \n",
      "    70     1.241159   1.22435                                                                                          \n",
      "    71     1.210247   1.220765                                                                                         \n",
      "    72     1.187467   1.222367                                                                                         \n",
      "    73     1.206063   1.219645                                                                                         \n",
      "    74     1.219079   1.225447                                                                                         \n",
      "    75     1.183519   1.220965                                                                                         \n",
      "    76     1.197143   1.222731                                                                                         \n",
      "    77     1.184827   1.223351                                                                                         \n",
      "    78     1.214945   1.218888                                                                                         \n",
      "    79     1.173676   1.218588                                                                                         \n",
      "    80     1.189488   1.222574                                                                                         \n",
      "    81     1.225586   1.219806                                                                                         \n",
      "    82     1.220367   1.214406                                                                                         \n",
      "    83     1.179447   1.218387                                                                                         \n",
      "    84     1.202484   1.216732                                                                                         \n",
      "    85     1.179455   1.212943                                                                                         \n",
      "    86     1.208099   1.215576                                                                                         \n",
      "    87     1.206511   1.21562                                                                                          \n",
      "    88     1.193185   1.214074                                                                                         \n",
      "    89     1.18065    1.214056                                                                                         \n",
      "    90     1.203312   1.214475                                                                                         \n",
      "    91     1.190108   1.213119                                                                                         \n",
      "    92     1.160539   1.215089                                                                                         \n",
      "    93     1.162454   1.214752                                                                                         \n",
      "    94     1.213863   1.214096                                                                                         \n",
      "    95     1.216454   1.213609                                                                                         \n",
      "    96     1.153703   1.21161                                                                                          \n",
      "    97     1.186337   1.212297                                                                                         \n",
      "    98     1.143297   1.211762                                                                                         \n",
      "    99     1.192262   1.211588                                                                                         \n",
      "   100     1.149764   1.211055                                                                                         \n",
      "   101     1.168902   1.211509                                                                                         \n",
      "   102     1.161411   1.211892                                                                                         \n",
      "   103     1.137801   1.212214                                                                                         \n",
      "   104     1.159643   1.211934                                                                                         \n",
      "   105     1.177515   1.21247                                                                                          \n",
      "   106     1.157091   1.212073                                                                                         \n",
      "   107     1.169853   1.212707                                                                                         \n",
      "   108     1.144756   1.213034                                                                                         \n",
      "   109     1.112593   1.213242                                                                                         \n",
      "   110     1.123342   1.213497                                                                                         \n",
      "   111     1.123095   1.213438                                                                                         \n",
      "   112     1.132859   1.213628                                                                                         \n",
      "   113     1.1102     1.214009                                                                                         \n",
      "   114     1.095922   1.214246                                                                                         \n",
      "   115     1.114436   1.21441                                                                                          \n",
      "   116     1.070128   1.214679                                                                                         \n",
      "   117     1.105179   1.214839                                                                                         \n",
      "   118     1.115368   1.215021                                                                                         \n",
      "   119     1.08356    1.215105                                                                                         \n",
      "   120     1.069943   1.215204                                                                                         \n",
      "   121     1.09005    1.215305                                                                                         \n",
      "   122     1.083891   1.215367                                                                                         \n",
      "   123     1.076918   1.215391                                                                                         \n",
      "   124     1.076789   1.215404                                                                                         \n",
      "   125     1.088187   1.215415                                                                                         \n",
      "   126     1.076002   1.215415                                                                                         \n",
      "   127     1.199063   1.224793                                                                                         \n",
      "   128     1.216777   1.222817                                                                                         \n",
      "   129     1.216477   1.222207                                                                                         \n",
      "   130     1.198404   1.223743                                                                                         \n",
      "   131     1.18332    1.22367                                                                                          \n",
      "   132     1.21128    1.224384                                                                                         \n",
      "   133     1.214964   1.226846                                                                                         \n",
      "   134     1.213248   1.221475                                                                                         \n"
     ]
    },
    {
     "name": "stdout",
     "output_type": "stream",
     "text": [
      "   135     1.253095   1.226545                                                                                         \n",
      "   136     1.221973   1.222499                                                                                         \n",
      "   137     1.23197    1.224953                                                                                         \n",
      "   138     1.229295   1.222919                                                                                         \n",
      "   139     1.189911   1.22397                                                                                          \n",
      "   140     1.210774   1.222948                                                                                         \n",
      "   141     1.170289   1.2231                                                                                           \n",
      "   142     1.221975   1.222986                                                                                         \n",
      "   143     1.217194   1.220872                                                                                         \n",
      "   144     1.195323   1.221591                                                                                         \n",
      "   145     1.225482   1.22294                                                                                          \n",
      "   146     1.207591   1.224017                                                                                         \n",
      "   147     1.215002   1.222619                                                                                         \n",
      "   148     1.201432   1.223107                                                                                         \n",
      "   149     1.204478   1.221453                                                                                         \n",
      "   150     1.201102   1.221922                                                                                         \n",
      "   151     1.19677    1.221066                                                                                         \n",
      "   152     1.201452   1.222809                                                                                         \n",
      "   153     1.210839   1.219286                                                                                         \n",
      "   154     1.20801    1.220988                                                                                         \n",
      "   155     1.204729   1.220699                                                                                         \n",
      "   156     1.196401   1.219664                                                                                         \n",
      "   157     1.17788    1.220267                                                                                         \n",
      "   158     1.219984   1.21987                                                                                          \n",
      "   159     1.209849   1.217002                                                                                         \n",
      "   160     1.188726   1.217989                                                                                         \n",
      "   161     1.226968   1.21736                                                                                          \n",
      "   162     1.185649   1.21983                                                                                          \n",
      "   163     1.204036   1.218609                                                                                         \n",
      "   164     1.204714   1.220813                                                                                         \n",
      "   165     1.190713   1.218997                                                                                         \n",
      "   166     1.202916   1.216919                                                                                         \n",
      "   167     1.166336   1.216441                                                                                         \n",
      "   168     1.21105    1.215704                                                                                         \n",
      "   169     1.188717   1.216435                                                                                         \n",
      "   170     1.185716   1.216877                                                                                         \n",
      "   171     1.196351   1.215156                                                                                         \n",
      "   172     1.197985   1.215246                                                                                         \n",
      "   173     1.193367   1.214198                                                                                         \n",
      "   174     1.218095   1.217764                                                                                         \n",
      "   175     1.191476   1.215513                                                                                         \n",
      "   176     1.203405   1.213947                                                                                         \n",
      "   177     1.202646   1.214792                                                                                         \n",
      "   178     1.193474   1.214586                                                                                         \n",
      "   179     1.194607   1.214051                                                                                         \n",
      "   180     1.206163   1.212451                                                                                         \n",
      "   181     1.195293   1.213977                                                                                         \n",
      "   182     1.207289   1.213721                                                                                         \n",
      "   183     1.187088   1.214627                                                                                         \n",
      "   184     1.172964   1.213267                                                                                         \n",
      "   185     1.205157   1.213084                                                                                         \n",
      "   186     1.194677   1.212999                                                                                         \n",
      "   187     1.196812   1.214168                                                                                         \n",
      "   188     1.14753    1.213955                                                                                         \n",
      "   189     1.197653   1.212719                                                                                         \n",
      "   190     1.176328   1.212142                                                                                         \n",
      "   191     1.186058   1.213122                                                                                         \n",
      "   192     1.182405   1.214412                                                                                         \n",
      "   193     1.176444   1.213425                                                                                         \n",
      "   194     1.177586   1.21135                                                                                          \n",
      "   195     1.145245   1.212472                                                                                         \n",
      "   196     1.185139   1.212175                                                                                         \n",
      "   197     1.120579   1.212713                                                                                         \n",
      "   198     1.145594   1.212029                                                                                         \n",
      "   199     1.133806   1.211775                                                                                         \n",
      "   200     1.189229   1.212081                                                                                         \n",
      "   201     1.171315   1.211334                                                                                         \n",
      "   202     1.196479   1.212218                                                                                         \n",
      "   203     1.148487   1.211327                                                                                         \n",
      "   204     1.175288   1.212839                                                                                         \n",
      "   205     1.159456   1.212397                                                                                         \n",
      "   206     1.165344   1.211858                                                                                         \n",
      "   207     1.130069   1.210978                                                                                         \n",
      "   208     1.165501   1.211211                                                                                         \n",
      "   209     1.164458   1.211441                                                                                         \n",
      "   210     1.154626   1.211608                                                                                         \n",
      "   211     1.170939   1.212486                                                                                         \n",
      "   212     1.186425   1.212569                                                                                         \n",
      "   213     1.145098   1.212977                                                                                         \n",
      "   214     1.152939   1.213044                                                                                         \n",
      "   215     1.10115    1.213467                                                                                         \n",
      "   216     1.128108   1.213281                                                                                         \n",
      "   217     1.108859   1.213482                                                                                         \n",
      "   218     1.145341   1.213084                                                                                         \n",
      "   219     1.144787   1.213602                                                                                         \n",
      "   220     1.104058   1.213563                                                                                         \n",
      "   221     1.117558   1.213339                                                                                         \n",
      "   222     1.103995   1.213307                                                                                         \n",
      "   223     1.139613   1.213606                                                                                         \n",
      "   224     1.11995    1.21376                                                                                          \n",
      "   225     1.106576   1.213715                                                                                         \n",
      "   226     1.113067   1.214129                                                                                         \n",
      "   227     1.092975   1.214325                                                                                         \n",
      "   228     1.098238   1.21452                                                                                          \n",
      "   229     1.108229   1.214537                                                                                         \n",
      "   230     1.114211   1.214722                                                                                         \n",
      "   231     1.128284   1.214711                                                                                         \n",
      "   232     1.097515   1.214827                                                                                         \n",
      "   233     1.112353   1.21489                                                                                          \n",
      "   234     1.108075   1.215049                                                                                         \n",
      "   235     1.106609   1.215066                                                                                         \n",
      "   236     1.093209   1.215182                                                                                         \n",
      "   237     1.071429   1.215257                                                                                         \n",
      "   238     1.08637    1.21534                                                                                          \n",
      "   239     1.106687   1.215448                                                                                         \n",
      "   240     1.107915   1.215466                                                                                         \n",
      "   241     1.086751   1.215503                                                                                         \n",
      "   242     1.088844   1.215544                                                                                         \n",
      "   243     1.105343   1.215592                                                                                         \n",
      "   244     1.063273   1.215618                                                                                         \n",
      "   245     1.066199   1.215642                                                                                         \n",
      "   246     1.090792   1.215666                                                                                         \n",
      "   247     1.06376    1.215696                                                                                         \n",
      "   248     1.077373   1.215715                                                                                         \n",
      "   249     1.084729   1.215729                                                                                         \n",
      "   250     1.102741   1.215731                                                                                         \n",
      "   251     1.05494    1.215737                                                                                         \n",
      "   252     1.074471   1.215742                                                                                         \n",
      "   253     1.08023    1.215743                                                                                         \n",
      "   254     1.070586   1.215742                                                                                         \n",
      "   255     1.202014   1.223268                                                                                         \n",
      "   256     1.183358   1.227316                                                                                         \n",
      "   257     1.205378   1.225542                                                                                         \n",
      "   258     1.18108    1.223396                                                                                         \n",
      "   259     1.205423   1.22256                                                                                          \n",
      "   260     1.164848   1.220273                                                                                         \n",
      "   261     1.189604   1.222744                                                                                         \n",
      "   262     1.225562   1.224073                                                                                         \n",
      "   263     1.214309   1.226962                                                                                         \n",
      "   264     1.208385   1.22574                                                                                          \n",
      "   265     1.194408   1.221758                                                                                         \n",
      "   266     1.211022   1.225256                                                                                         \n",
      "   267     1.225302   1.224162                                                                                         \n",
      "   268     1.205291   1.22721                                                                                          \n",
      "   269     1.200554   1.221382                                                                                         \n",
      "   270     1.207188   1.223095                                                                                         \n"
     ]
    },
    {
     "name": "stdout",
     "output_type": "stream",
     "text": [
      "   271     1.215515   1.224619                                                                                         \n",
      "   272     1.2091     1.225727                                                                                         \n",
      "   273     1.238941   1.222872                                                                                         \n",
      "   274     1.199056   1.22361                                                                                          \n",
      "   275     1.205047   1.226247                                                                                         \n",
      "   276     1.21159    1.223177                                                                                         \n",
      "   277     1.225511   1.22097                                                                                          \n",
      "   278     1.216539   1.225025                                                                                         \n",
      "   279     1.22588    1.226475                                                                                         \n",
      "   280     1.20519    1.223815                                                                                         \n",
      "   281     1.197026   1.221875                                                                                         \n",
      "   282     1.211294   1.224873                                                                                         \n",
      "   283     1.242577   1.220198                                                                                         \n",
      "   284     1.197059   1.221663                                                                                         \n",
      "   285     1.235195   1.224041                                                                                         \n",
      "   286     1.198347   1.224062                                                                                         \n",
      "   287     1.205651   1.221543                                                                                         \n",
      "   288     1.186011   1.224929                                                                                         \n",
      "   289     1.232535   1.224381                                                                                         \n",
      "   290     1.206974   1.224218                                                                                         \n",
      "   291     1.251507   1.223973                                                                                         \n",
      "   292     1.224433   1.220698                                                                                         \n",
      "   293     1.223375   1.221778                                                                                         \n",
      "   294     1.220825   1.22575                                                                                          \n",
      "   295     1.189196   1.220369                                                                                         \n",
      "   296     1.205287   1.219919                                                                                         \n",
      "   297     1.210429   1.225681                                                                                         \n",
      "   298     1.2178     1.219602                                                                                         \n",
      "   299     1.226878   1.221669                                                                                         \n",
      "   300     1.196546   1.220362                                                                                         \n",
      "   301     1.19609    1.223855                                                                                         \n",
      "   302     1.221774   1.221922                                                                                         \n",
      "   303     1.194337   1.221254                                                                                         \n",
      "   304     1.227812   1.224314                                                                                         \n",
      "   305     1.219935   1.22324                                                                                          \n",
      "   306     1.201999   1.220038                                                                                         \n",
      "   307     1.197201   1.222051                                                                                         \n",
      "   308     1.190121   1.2238                                                                                           \n",
      "   309     1.174767   1.221527                                                                                         \n",
      "   310     1.189163   1.220695                                                                                         \n",
      "   311     1.219898   1.22226                                                                                          \n",
      "   312     1.233155   1.219495                                                                                         \n",
      "   313     1.206253   1.219167                                                                                         \n",
      "   314     1.210384   1.218241                                                                                         \n",
      "   315     1.233801   1.217925                                                                                         \n",
      "   316     1.253509   1.219449                                                                                         \n",
      "   317     1.235269   1.220142                                                                                         \n",
      "   318     1.190487   1.21918                                                                                          \n",
      "   319     1.204566   1.216539                                                                                         \n",
      "   320     1.194788   1.219223                                                                                         \n",
      "   321     1.20998    1.21987                                                                                          \n",
      "   322     1.203896   1.218062                                                                                         \n",
      "   323     1.187084   1.220408                                                                                         \n",
      "   324     1.205192   1.216527                                                                                         \n",
      "   325     1.167949   1.214638                                                                                         \n",
      "   326     1.195181   1.219982                                                                                         \n",
      "   327     1.242872   1.217629                                                                                         \n",
      "   328     1.219282   1.216287                                                                                         \n",
      "   329     1.151283   1.217196                                                                                         \n",
      "   330     1.208774   1.220355                                                                                         \n",
      "   331     1.190109   1.218435                                                                                         \n",
      "   332     1.204915   1.222002                                                                                         \n",
      "   333     1.188766   1.218368                                                                                         \n",
      "   334     1.210264   1.218272                                                                                         \n",
      "   335     1.207954   1.216493                                                                                         \n",
      "   336     1.229916   1.220426                                                                                         \n",
      "   337     1.214871   1.219821                                                                                         \n",
      "   338     1.200736   1.218737                                                                                         \n",
      "   339     1.204864   1.219067                                                                                         \n",
      "   340     1.194689   1.218941                                                                                         \n",
      "   341     1.218239   1.216892                                                                                         \n",
      "   342     1.220181   1.216188                                                                                         \n",
      "   343     1.188904   1.216546                                                                                         \n",
      "   344     1.179019   1.215118                                                                                         \n",
      "   345     1.191169   1.214583                                                                                         \n",
      "   346     1.194324   1.217763                                                                                         \n",
      "   347     1.214891   1.216355                                                                                         \n",
      "   348     1.194361   1.21569                                                                                          \n",
      "   349     1.165973   1.218355                                                                                         \n",
      "   350     1.193966   1.215547                                                                                         \n",
      "   351     1.210784   1.216808                                                                                         \n",
      "   352     1.182882   1.214807                                                                                         \n",
      "   353     1.168843   1.213685                                                                                         \n",
      "   354     1.198136   1.212897                                                                                         \n",
      "   355     1.169045   1.212674                                                                                         \n",
      "   356     1.186596   1.214494                                                                                         \n",
      "   357     1.193605   1.213921                                                                                         \n",
      "   358     1.178869   1.214879                                                                                         \n",
      "   359     1.168425   1.216183                                                                                         \n",
      "   360     1.188858   1.214421                                                                                         \n",
      "   361     1.191328   1.214293                                                                                         \n",
      "   362     1.18122    1.213582                                                                                         \n",
      "   363     1.20853    1.215364                                                                                         \n",
      "   364     1.170651   1.211823                                                                                         \n",
      "   365     1.171097   1.213012                                                                                         \n",
      "   366     1.177688   1.21384                                                                                          \n",
      "   367     1.206414   1.21321                                                                                          \n",
      "   368     1.190306   1.213909                                                                                         \n",
      "   369     1.213376   1.213339                                                                                         \n",
      "   370     1.188309   1.214177                                                                                         \n",
      "   371     1.212016   1.213539                                                                                         \n",
      "   372     1.206903   1.213798                                                                                         \n",
      "   373     1.198491   1.211989                                                                                         \n",
      "   374     1.208382   1.212215                                                                                         \n",
      "   375     1.215624   1.213615                                                                                         \n",
      "   376     1.243808   1.213911                                                                                         \n",
      "   377     1.184645   1.213955                                                                                         \n",
      "   378     1.160041   1.213729                                                                                         \n",
      "   379     1.17243    1.21487                                                                                          \n",
      "   380     1.198474   1.214729                                                                                         \n",
      "   381     1.15789    1.21356                                                                                          \n",
      "   382     1.189788   1.213503                                                                                         \n",
      "   383     1.137587   1.210988                                                                                         \n",
      "   384     1.177309   1.212088                                                                                         \n",
      "   385     1.179965   1.211657                                                                                         \n",
      "   386     1.170794   1.213032                                                                                         \n",
      "   387     1.170887   1.211666                                                                                         \n",
      "   388     1.195768   1.213202                                                                                         \n",
      "   389     1.148045   1.213021                                                                                         \n",
      "   390     1.210371   1.211509                                                                                         \n",
      "   391     1.165351   1.211462                                                                                         \n",
      "   392     1.169307   1.211604                                                                                         \n",
      "   393     1.172235   1.213065                                                                                         \n",
      "   394     1.181821   1.211515                                                                                         \n",
      "   395     1.161894   1.212217                                                                                         \n",
      "   396     1.183723   1.211694                                                                                         \n",
      "   397     1.176604   1.211748                                                                                         \n",
      "   398     1.12944    1.211397                                                                                         \n",
      "   399     1.189095   1.213357                                                                                         \n",
      "   400     1.190695   1.212394                                                                                         \n",
      "   401     1.152169   1.214211                                                                                         \n",
      "   402     1.134922   1.213313                                                                                         \n",
      "   403     1.150042   1.211789                                                                                         \n",
      "   404     1.167418   1.211484                                                                                         \n",
      "   405     1.158928   1.212128                                                                                         \n",
      "   406     1.168381   1.212256                                                                                         \n"
     ]
    },
    {
     "name": "stdout",
     "output_type": "stream",
     "text": [
      "   407     1.16381    1.211358                                                                                         \n",
      "   408     1.149974   1.212762                                                                                         \n",
      "   409     1.188277   1.212361                                                                                         \n",
      "   410     1.187553   1.212962                                                                                         \n",
      "   411     1.133925   1.211907                                                                                         \n",
      "   412     1.167634   1.212065                                                                                         \n",
      "   413     1.155582   1.212097                                                                                         \n",
      "   414     1.154071   1.212026                                                                                         \n",
      "   415     1.141315   1.21252                                                                                          \n",
      "   416     1.149368   1.211881                                                                                         \n",
      "   417     1.170834   1.212283                                                                                         \n",
      "   418     1.137167   1.212066                                                                                         \n",
      "   419     1.146675   1.212653                                                                                         \n",
      "   420     1.148282   1.212668                                                                                         \n",
      "   421     1.163118   1.212785                                                                                         \n",
      "   422     1.158627   1.21267                                                                                          \n",
      "   423     1.150888   1.212287                                                                                         \n",
      "   424     1.139698   1.212761                                                                                         \n",
      "   425     1.167104   1.21286                                                                                          \n",
      "   426     1.144984   1.212332                                                                                         \n",
      "   427     1.155211   1.212326                                                                                         \n",
      "   428     1.112617   1.212387                                                                                         \n",
      "   429     1.145216   1.212416                                                                                         \n",
      "   430     1.126478   1.212684                                                                                         \n",
      "   431     1.115703   1.213006                                                                                         \n",
      "   432     1.114739   1.212728                                                                                         \n",
      "   433     1.127945   1.212663                                                                                         \n",
      "   434     1.154334   1.212579                                                                                         \n",
      "   435     1.139879   1.213135                                                                                         \n",
      "   436     1.112901   1.212851                                                                                         \n",
      "   437     1.142912   1.212899                                                                                         \n",
      "   438     1.166706   1.213355                                                                                         \n",
      "   439     1.107591   1.213743                                                                                         \n",
      "   440     1.129623   1.213867                                                                                         \n",
      "   441     1.173694   1.213693                                                                                         \n",
      "   442     1.126908   1.213535                                                                                         \n",
      "   443     1.127686   1.213618                                                                                         \n",
      "   444     1.13708    1.213674                                                                                         \n",
      "   445     1.121302   1.213728                                                                                         \n",
      "   446     1.119316   1.213893                                                                                         \n",
      "   447     1.145275   1.213756                                                                                         \n",
      "   448     1.124977   1.213969                                                                                         \n",
      "   449     1.112516   1.214033                                                                                         \n",
      "   450     1.125868   1.214068                                                                                         \n",
      "   451     1.107616   1.214024                                                                                         \n",
      "   452     1.121194   1.21415                                                                                          \n",
      "   453     1.114858   1.214262                                                                                         \n",
      "   454     1.10235    1.214389                                                                                         \n",
      "   455     1.118301   1.214309                                                                                         \n",
      "   456     1.114038   1.214438                                                                                         \n",
      "   457     1.11671    1.214504                                                                                         \n",
      "   458     1.112454   1.214432                                                                                         \n",
      "   459     1.098737   1.214406                                                                                         \n",
      "   460     1.098975   1.214483                                                                                         \n",
      "   461     1.108655   1.214534                                                                                         \n",
      "   462     1.116645   1.214642                                                                                         \n",
      "   463     1.110174   1.21474                                                                                          \n",
      "   464     1.101246   1.214752                                                                                         \n",
      "   465     1.102529   1.214735                                                                                         \n",
      "   466     1.115505   1.214842                                                                                         \n",
      "   467     1.110217   1.214895                                                                                         \n",
      "   468     1.082737   1.215021                                                                                         \n",
      "   469     1.103643   1.215016                                                                                         \n",
      "   470     1.110349   1.215037                                                                                         \n",
      "   471     1.084452   1.215095                                                                                         \n",
      "   472     1.083638   1.215142                                                                                         \n",
      "   473     1.110546   1.215185                                                                                         \n",
      "   474     1.08134    1.215241                                                                                         \n",
      "   475     1.11772    1.215272                                                                                         \n",
      "   476     1.110925   1.21531                                                                                          \n",
      "   477     1.099185   1.215289                                                                                         \n",
      "   478     1.094779   1.215333                                                                                         \n",
      "   479     1.104328   1.215405                                                                                         \n",
      "   480     1.072239   1.215458                                                                                         \n",
      "   481     1.068032   1.215488                                                                                         \n",
      "   482     1.104716   1.215557                                                                                         \n",
      "   483     1.12287    1.215606                                                                                         \n",
      "   484     1.084238   1.215618                                                                                         \n",
      "   485     1.057247   1.215645                                                                                         \n",
      "   486     1.08626    1.215693                                                                                         \n",
      "   487     1.0625     1.215695                                                                                         \n",
      "   488     1.064205   1.215723                                                                                         \n",
      "   489     1.113432   1.215721                                                                                         \n",
      "   490     1.083767   1.215746                                                                                         \n",
      "   491     1.10666    1.215774                                                                                         \n",
      "   492     1.096742   1.215796                                                                                         \n",
      "   493     1.09413    1.215824                                                                                         \n",
      "   494     1.06495    1.215842                                                                                         \n",
      "   495     1.049766   1.215847                                                                                         \n",
      "   496     1.045527   1.215862                                                                                         \n",
      "   497     1.071512   1.215876                                                                                         \n",
      "   498     1.082151   1.215886                                                                                         \n",
      "   499     1.06124    1.215887                                                                                         \n",
      "   500     1.068234   1.2159                                                                                           \n",
      "   501     1.040261   1.215907                                                                                         \n",
      "   502     1.068868   1.215913                                                                                         \n",
      "   503     1.087079   1.215917                                                                                         \n",
      "   504     1.107822   1.215922                                                                                         \n",
      "   505     1.067279   1.215925                                                                                         \n",
      "   506     1.09556    1.215927                                                                                         \n",
      "   507     1.088212   1.215928                                                                                         \n",
      "   508     1.080516   1.215928                                                                                         \n",
      "   509     1.075858   1.215928                                                                                         \n",
      "   510     1.036875   1.215926                                                                                         \n",
      "   511     1.196222   1.224397                                                                                         \n",
      "   512     1.23908    1.224817                                                                                         \n",
      "   513     1.19379    1.226797                                                                                         \n",
      "   514     1.205143   1.2224                                                                                           \n",
      "   515     1.178932   1.226001                                                                                         \n",
      "   516     1.192417   1.222501                                                                                         \n",
      "   517     1.225065   1.225421                                                                                         \n",
      "   518     1.205352   1.221357                                                                                         \n",
      "   519     1.178511   1.225843                                                                                         \n",
      "   520     1.2098     1.225527                                                                                         \n",
      " 13%|████████▍                                                          | 237/1878 [00:01<00:08, 191.63it/s, loss=1.11]"
     ]
    },
    {
     "ename": "KeyboardInterrupt",
     "evalue": "",
     "output_type": "error",
     "traceback": [
      "\u001b[1;31m---------------------------------------------------------------------------\u001b[0m",
      "\u001b[1;31mKeyboardInterrupt\u001b[0m                         Traceback (most recent call last)",
      "\u001b[1;32m<ipython-input-8-3bdf7f01cdcf>\u001b[0m in \u001b[0;36m<module>\u001b[1;34m\u001b[0m\n\u001b[1;32m----> 1\u001b[1;33m \u001b[0mlearn\u001b[0m\u001b[1;33m.\u001b[0m\u001b[0mfit\u001b[0m\u001b[1;33m(\u001b[0m\u001b[1;36m1e-2\u001b[0m\u001b[1;33m,\u001b[0m \u001b[1;36m10\u001b[0m\u001b[1;33m,\u001b[0m \u001b[0mwds\u001b[0m\u001b[1;33m=\u001b[0m\u001b[0mwd\u001b[0m\u001b[1;33m,\u001b[0m \u001b[0mcycle_len\u001b[0m\u001b[1;33m=\u001b[0m\u001b[1;36m1\u001b[0m\u001b[1;33m,\u001b[0m \u001b[0mcycle_mult\u001b[0m\u001b[1;33m=\u001b[0m\u001b[1;36m2\u001b[0m\u001b[1;33m)\u001b[0m\u001b[1;33m\u001b[0m\u001b[0m\n\u001b[0m",
      "\u001b[1;32mD:\\Users\\aznro\\Anaconda3\\envs\\fastai\\lib\\site-packages\\fastai\\learner.py\u001b[0m in \u001b[0;36mfit\u001b[1;34m(self, lrs, n_cycle, wds, **kwargs)\u001b[0m\n\u001b[0;32m    285\u001b[0m         \u001b[0mself\u001b[0m\u001b[1;33m.\u001b[0m\u001b[0msched\u001b[0m \u001b[1;33m=\u001b[0m \u001b[1;32mNone\u001b[0m\u001b[1;33m\u001b[0m\u001b[0m\n\u001b[0;32m    286\u001b[0m         \u001b[0mlayer_opt\u001b[0m \u001b[1;33m=\u001b[0m \u001b[0mself\u001b[0m\u001b[1;33m.\u001b[0m\u001b[0mget_layer_opt\u001b[0m\u001b[1;33m(\u001b[0m\u001b[0mlrs\u001b[0m\u001b[1;33m,\u001b[0m \u001b[0mwds\u001b[0m\u001b[1;33m)\u001b[0m\u001b[1;33m\u001b[0m\u001b[0m\n\u001b[1;32m--> 287\u001b[1;33m         \u001b[1;32mreturn\u001b[0m \u001b[0mself\u001b[0m\u001b[1;33m.\u001b[0m\u001b[0mfit_gen\u001b[0m\u001b[1;33m(\u001b[0m\u001b[0mself\u001b[0m\u001b[1;33m.\u001b[0m\u001b[0mmodel\u001b[0m\u001b[1;33m,\u001b[0m \u001b[0mself\u001b[0m\u001b[1;33m.\u001b[0m\u001b[0mdata\u001b[0m\u001b[1;33m,\u001b[0m \u001b[0mlayer_opt\u001b[0m\u001b[1;33m,\u001b[0m \u001b[0mn_cycle\u001b[0m\u001b[1;33m,\u001b[0m \u001b[1;33m**\u001b[0m\u001b[0mkwargs\u001b[0m\u001b[1;33m)\u001b[0m\u001b[1;33m\u001b[0m\u001b[0m\n\u001b[0m\u001b[0;32m    288\u001b[0m \u001b[1;33m\u001b[0m\u001b[0m\n\u001b[0;32m    289\u001b[0m     \u001b[1;32mdef\u001b[0m \u001b[0mwarm_up\u001b[0m\u001b[1;33m(\u001b[0m\u001b[0mself\u001b[0m\u001b[1;33m,\u001b[0m \u001b[0mlr\u001b[0m\u001b[1;33m,\u001b[0m \u001b[0mwds\u001b[0m\u001b[1;33m=\u001b[0m\u001b[1;32mNone\u001b[0m\u001b[1;33m)\u001b[0m\u001b[1;33m:\u001b[0m\u001b[1;33m\u001b[0m\u001b[0m\n",
      "\u001b[1;32mD:\\Users\\aznro\\Anaconda3\\envs\\fastai\\lib\\site-packages\\fastai\\learner.py\u001b[0m in \u001b[0;36mfit_gen\u001b[1;34m(self, model, data, layer_opt, n_cycle, cycle_len, cycle_mult, cycle_save_name, best_save_name, use_clr, use_clr_beta, metrics, callbacks, use_wd_sched, norm_wds, wds_sched_mult, use_swa, swa_start, swa_eval_freq, **kwargs)\u001b[0m\n\u001b[0;32m    232\u001b[0m             \u001b[0mmetrics\u001b[0m\u001b[1;33m=\u001b[0m\u001b[0mmetrics\u001b[0m\u001b[1;33m,\u001b[0m \u001b[0mcallbacks\u001b[0m\u001b[1;33m=\u001b[0m\u001b[0mcallbacks\u001b[0m\u001b[1;33m,\u001b[0m \u001b[0mreg_fn\u001b[0m\u001b[1;33m=\u001b[0m\u001b[0mself\u001b[0m\u001b[1;33m.\u001b[0m\u001b[0mreg_fn\u001b[0m\u001b[1;33m,\u001b[0m \u001b[0mclip\u001b[0m\u001b[1;33m=\u001b[0m\u001b[0mself\u001b[0m\u001b[1;33m.\u001b[0m\u001b[0mclip\u001b[0m\u001b[1;33m,\u001b[0m \u001b[0mfp16\u001b[0m\u001b[1;33m=\u001b[0m\u001b[0mself\u001b[0m\u001b[1;33m.\u001b[0m\u001b[0mfp16\u001b[0m\u001b[1;33m,\u001b[0m\u001b[1;33m\u001b[0m\u001b[0m\n\u001b[0;32m    233\u001b[0m             \u001b[0mswa_model\u001b[0m\u001b[1;33m=\u001b[0m\u001b[0mself\u001b[0m\u001b[1;33m.\u001b[0m\u001b[0mswa_model\u001b[0m \u001b[1;32mif\u001b[0m \u001b[0muse_swa\u001b[0m \u001b[1;32melse\u001b[0m \u001b[1;32mNone\u001b[0m\u001b[1;33m,\u001b[0m \u001b[0mswa_start\u001b[0m\u001b[1;33m=\u001b[0m\u001b[0mswa_start\u001b[0m\u001b[1;33m,\u001b[0m\u001b[1;33m\u001b[0m\u001b[0m\n\u001b[1;32m--> 234\u001b[1;33m             swa_eval_freq=swa_eval_freq, **kwargs)\n\u001b[0m\u001b[0;32m    235\u001b[0m \u001b[1;33m\u001b[0m\u001b[0m\n\u001b[0;32m    236\u001b[0m     \u001b[1;32mdef\u001b[0m \u001b[0mget_layer_groups\u001b[0m\u001b[1;33m(\u001b[0m\u001b[0mself\u001b[0m\u001b[1;33m)\u001b[0m\u001b[1;33m:\u001b[0m \u001b[1;32mreturn\u001b[0m \u001b[0mself\u001b[0m\u001b[1;33m.\u001b[0m\u001b[0mmodels\u001b[0m\u001b[1;33m.\u001b[0m\u001b[0mget_layer_groups\u001b[0m\u001b[1;33m(\u001b[0m\u001b[1;33m)\u001b[0m\u001b[1;33m\u001b[0m\u001b[0m\n",
      "\u001b[1;32mD:\\Users\\aznro\\Anaconda3\\envs\\fastai\\lib\\site-packages\\fastai\\model.py\u001b[0m in \u001b[0;36mfit\u001b[1;34m(model, data, n_epochs, opt, crit, metrics, callbacks, stepper, swa_model, swa_start, swa_eval_freq, **kwargs)\u001b[0m\n\u001b[0;32m    127\u001b[0m             \u001b[0mbatch_num\u001b[0m \u001b[1;33m+=\u001b[0m \u001b[1;36m1\u001b[0m\u001b[1;33m\u001b[0m\u001b[0m\n\u001b[0;32m    128\u001b[0m             \u001b[1;32mfor\u001b[0m \u001b[0mcb\u001b[0m \u001b[1;32min\u001b[0m \u001b[0mcallbacks\u001b[0m\u001b[1;33m:\u001b[0m \u001b[0mcb\u001b[0m\u001b[1;33m.\u001b[0m\u001b[0mon_batch_begin\u001b[0m\u001b[1;33m(\u001b[0m\u001b[1;33m)\u001b[0m\u001b[1;33m\u001b[0m\u001b[0m\n\u001b[1;32m--> 129\u001b[1;33m             \u001b[0mloss\u001b[0m \u001b[1;33m=\u001b[0m \u001b[0mmodel_stepper\u001b[0m\u001b[1;33m.\u001b[0m\u001b[0mstep\u001b[0m\u001b[1;33m(\u001b[0m\u001b[0mV\u001b[0m\u001b[1;33m(\u001b[0m\u001b[0mx\u001b[0m\u001b[1;33m)\u001b[0m\u001b[1;33m,\u001b[0m\u001b[0mV\u001b[0m\u001b[1;33m(\u001b[0m\u001b[0my\u001b[0m\u001b[1;33m)\u001b[0m\u001b[1;33m,\u001b[0m \u001b[0mepoch\u001b[0m\u001b[1;33m)\u001b[0m\u001b[1;33m\u001b[0m\u001b[0m\n\u001b[0m\u001b[0;32m    130\u001b[0m             \u001b[0mavg_loss\u001b[0m \u001b[1;33m=\u001b[0m \u001b[0mavg_loss\u001b[0m \u001b[1;33m*\u001b[0m \u001b[0mavg_mom\u001b[0m \u001b[1;33m+\u001b[0m \u001b[0mloss\u001b[0m \u001b[1;33m*\u001b[0m \u001b[1;33m(\u001b[0m\u001b[1;36m1\u001b[0m\u001b[1;33m-\u001b[0m\u001b[0mavg_mom\u001b[0m\u001b[1;33m)\u001b[0m\u001b[1;33m\u001b[0m\u001b[0m\n\u001b[0;32m    131\u001b[0m             \u001b[0mdebias_loss\u001b[0m \u001b[1;33m=\u001b[0m \u001b[0mavg_loss\u001b[0m \u001b[1;33m/\u001b[0m \u001b[1;33m(\u001b[0m\u001b[1;36m1\u001b[0m \u001b[1;33m-\u001b[0m \u001b[0mavg_mom\u001b[0m\u001b[1;33m**\u001b[0m\u001b[0mbatch_num\u001b[0m\u001b[1;33m)\u001b[0m\u001b[1;33m\u001b[0m\u001b[0m\n",
      "\u001b[1;32mD:\\Users\\aznro\\Anaconda3\\envs\\fastai\\lib\\site-packages\\fastai\\model.py\u001b[0m in \u001b[0;36mstep\u001b[1;34m(self, xs, y, epoch)\u001b[0m\n\u001b[0;32m     59\u001b[0m         \u001b[1;32mif\u001b[0m \u001b[0mself\u001b[0m\u001b[1;33m.\u001b[0m\u001b[0mclip\u001b[0m\u001b[1;33m:\u001b[0m   \u001b[1;31m# Gradient clipping\u001b[0m\u001b[1;33m\u001b[0m\u001b[0m\n\u001b[0;32m     60\u001b[0m             \u001b[0mnn\u001b[0m\u001b[1;33m.\u001b[0m\u001b[0mutils\u001b[0m\u001b[1;33m.\u001b[0m\u001b[0mclip_grad_norm\u001b[0m\u001b[1;33m(\u001b[0m\u001b[0mtrainable_params_\u001b[0m\u001b[1;33m(\u001b[0m\u001b[0mself\u001b[0m\u001b[1;33m.\u001b[0m\u001b[0mm\u001b[0m\u001b[1;33m)\u001b[0m\u001b[1;33m,\u001b[0m \u001b[0mself\u001b[0m\u001b[1;33m.\u001b[0m\u001b[0mclip\u001b[0m\u001b[1;33m)\u001b[0m\u001b[1;33m\u001b[0m\u001b[0m\n\u001b[1;32m---> 61\u001b[1;33m         \u001b[0mself\u001b[0m\u001b[1;33m.\u001b[0m\u001b[0mopt\u001b[0m\u001b[1;33m.\u001b[0m\u001b[0mstep\u001b[0m\u001b[1;33m(\u001b[0m\u001b[1;33m)\u001b[0m\u001b[1;33m\u001b[0m\u001b[0m\n\u001b[0m\u001b[0;32m     62\u001b[0m         \u001b[1;32mif\u001b[0m \u001b[0mself\u001b[0m\u001b[1;33m.\u001b[0m\u001b[0mfp16\u001b[0m\u001b[1;33m:\u001b[0m\u001b[1;33m\u001b[0m\u001b[0m\n\u001b[0;32m     63\u001b[0m             \u001b[0mcopy_fp32_to_model\u001b[0m\u001b[1;33m(\u001b[0m\u001b[0mself\u001b[0m\u001b[1;33m.\u001b[0m\u001b[0mm\u001b[0m\u001b[1;33m,\u001b[0m \u001b[0mself\u001b[0m\u001b[1;33m.\u001b[0m\u001b[0mfp32_params\u001b[0m\u001b[1;33m)\u001b[0m\u001b[1;33m\u001b[0m\u001b[0m\n",
      "\u001b[1;32mD:\\Users\\aznro\\Anaconda3\\envs\\fastai\\lib\\site-packages\\torch\\optim\\adam.py\u001b[0m in \u001b[0;36mstep\u001b[1;34m(self, closure)\u001b[0m\n\u001b[0;32m     68\u001b[0m                 \u001b[1;31m# Decay the first and second moment running average coefficient\u001b[0m\u001b[1;33m\u001b[0m\u001b[1;33m\u001b[0m\u001b[0m\n\u001b[0;32m     69\u001b[0m                 \u001b[0mexp_avg\u001b[0m\u001b[1;33m.\u001b[0m\u001b[0mmul_\u001b[0m\u001b[1;33m(\u001b[0m\u001b[0mbeta1\u001b[0m\u001b[1;33m)\u001b[0m\u001b[1;33m.\u001b[0m\u001b[0madd_\u001b[0m\u001b[1;33m(\u001b[0m\u001b[1;36m1\u001b[0m \u001b[1;33m-\u001b[0m \u001b[0mbeta1\u001b[0m\u001b[1;33m,\u001b[0m \u001b[0mgrad\u001b[0m\u001b[1;33m)\u001b[0m\u001b[1;33m\u001b[0m\u001b[0m\n\u001b[1;32m---> 70\u001b[1;33m                 \u001b[0mexp_avg_sq\u001b[0m\u001b[1;33m.\u001b[0m\u001b[0mmul_\u001b[0m\u001b[1;33m(\u001b[0m\u001b[0mbeta2\u001b[0m\u001b[1;33m)\u001b[0m\u001b[1;33m.\u001b[0m\u001b[0maddcmul_\u001b[0m\u001b[1;33m(\u001b[0m\u001b[1;36m1\u001b[0m \u001b[1;33m-\u001b[0m \u001b[0mbeta2\u001b[0m\u001b[1;33m,\u001b[0m \u001b[0mgrad\u001b[0m\u001b[1;33m,\u001b[0m \u001b[0mgrad\u001b[0m\u001b[1;33m)\u001b[0m\u001b[1;33m\u001b[0m\u001b[0m\n\u001b[0m\u001b[0;32m     71\u001b[0m \u001b[1;33m\u001b[0m\u001b[0m\n\u001b[0;32m     72\u001b[0m                 \u001b[0mdenom\u001b[0m \u001b[1;33m=\u001b[0m \u001b[0mexp_avg_sq\u001b[0m\u001b[1;33m.\u001b[0m\u001b[0msqrt\u001b[0m\u001b[1;33m(\u001b[0m\u001b[1;33m)\u001b[0m\u001b[1;33m.\u001b[0m\u001b[0madd_\u001b[0m\u001b[1;33m(\u001b[0m\u001b[0mgroup\u001b[0m\u001b[1;33m[\u001b[0m\u001b[1;34m'eps'\u001b[0m\u001b[1;33m]\u001b[0m\u001b[1;33m)\u001b[0m\u001b[1;33m\u001b[0m\u001b[0m\n",
      "\u001b[1;31mKeyboardInterrupt\u001b[0m: "
     ]
    }
   ],
   "source": [
    "learn.fit(1e-2, 10, wds=wd, cycle_len=1, cycle_mult=2)"
   ]
  },
  {
   "cell_type": "markdown",
   "metadata": {
    "heading_collapsed": true
   },
   "source": [
    "## Sequential Model"
   ]
  },
  {
   "cell_type": "markdown",
   "metadata": {
    "hidden": true
   },
   "source": [
    "A majority of sequence models outperform the factorization one but\n",
    "    1. it takes a lot longer to train sequence models\n",
    "    2. Would not be helpful if the data does not have a clear sequential correlation when applying sequence model. "
   ]
  },
  {
   "cell_type": "markdown",
   "metadata": {
    "heading_collapsed": true
   },
   "source": [
    "##  Business-based kNN"
   ]
  },
  {
   "cell_type": "markdown",
   "metadata": {
    "hidden": true
   },
   "source": [
    "For this collaborative filtering method, in order to predict a rating from user u to business b, we look at the top k businesses that are similar to business i, and produce a prediction by calculating the weighted average of ratings from user u to these businesses. \n",
    "\n",
    "I'll use __cosine similarity__ between businesses and then predict a value of ratings user u gives to business b as a weighted average of similar items user u has rated. Top k businesses are the ones with the largest cosine similarity with business b. \n",
    "\n",
    "For forming the vectors, __one hot encoding__ for some unordered categorical variables.\n",
    "Ordered categorical variables we use just replacing the values with 0-5. I'm a bit lazy here but there are other ways.\n",
    "Continuous variables are fine. Normalize all. \n",
    "\n",
    "Problem though: Almost all variables are categorical"
   ]
  },
  {
   "cell_type": "markdown",
   "metadata": {
    "hidden": true
   },
   "source": [
    "There are a ton of features to work through.\n",
    "1. Drop address cuz irrelevant unless sentiment analysis but thats a bit much\n",
    "2. Drop attributes column. all nan\n",
    "3. Aggregate the all attributes together for a percentage to put into the vector \n",
    "    - Restaraunt attributes should be in another value. do this through nan of some of the attributes\n",
    "4. index by business_id\n",
    "5. One hot encode.... 'categories since they are like Bars vs Barbeque vs Southern vs American vs Ethnic food (OH)\n",
    "6. City............. (OH)\n",
    "7. Drop hours\n",
    "8. hours_DayInWeek....\n",
    "9. Drop binary value is_open. doesn't make any snese \n",
    "10. Drop latitude, longitude. Irrelevant\n",
    "11. name........ \n",
    "12. 212 different neighborhoods... Now if we label encode this I'm feeling shit ton of overfitting (OH)\n",
    "13. postal_code. I think drop postal_code for neighborhoods.....\n",
    "14.  Drop stars since its the dependent var\n",
    "15. Drop state for sure\n",
    "\n",
    "put all attributes into a single value for the vector "
   ]
  },
  {
   "cell_type": "code",
   "execution_count": 31,
   "metadata": {
    "hidden": true
   },
   "outputs": [
    {
     "data": {
      "text/plain": [
       "Index(['address', 'attributes', 'attributes_AcceptsInsurance',\n",
       "       'attributes_AgesAllowed', 'attributes_Alcohol', 'attributes_Ambience',\n",
       "       'attributes_BYOB', 'attributes_BYOBCorkage', 'attributes_BestNights',\n",
       "       'attributes_BikeParking', 'attributes_BusinessAcceptsBitcoin',\n",
       "       'attributes_BusinessAcceptsCreditCards', 'attributes_BusinessParking',\n",
       "       'attributes_ByAppointmentOnly', 'attributes_Caters',\n",
       "       'attributes_CoatCheck', 'attributes_Corkage',\n",
       "       'attributes_DietaryRestrictions', 'attributes_DogsAllowed',\n",
       "       'attributes_DriveThru', 'attributes_GoodForDancing',\n",
       "       'attributes_GoodForKids', 'attributes_GoodForMeal',\n",
       "       'attributes_HairSpecializesIn', 'attributes_HappyHour',\n",
       "       'attributes_HasTV', 'attributes_Music', 'attributes_NoiseLevel',\n",
       "       'attributes_Open24Hours', 'attributes_OutdoorSeating',\n",
       "       'attributes_RestaurantsAttire', 'attributes_RestaurantsCounterService',\n",
       "       'attributes_RestaurantsDelivery', 'attributes_RestaurantsGoodForGroups',\n",
       "       'attributes_RestaurantsPriceRange2',\n",
       "       'attributes_RestaurantsReservations',\n",
       "       'attributes_RestaurantsTableService', 'attributes_RestaurantsTakeOut',\n",
       "       'attributes_Smoking', 'attributes_WheelchairAccessible',\n",
       "       'attributes_WiFi', 'business_id', 'categories', 'city', 'hours',\n",
       "       'hours_Friday', 'hours_Monday', 'hours_Saturday', 'hours_Sunday',\n",
       "       'hours_Thursday', 'hours_Tuesday', 'hours_Wednesday', 'is_open',\n",
       "       'latitude', 'longitude', 'name', 'neighborhood', 'postal_code',\n",
       "       'review_count', 'stars', 'state'],\n",
       "      dtype='object')"
      ]
     },
     "execution_count": 31,
     "metadata": {},
     "output_type": "execute_result"
    }
   ],
   "source": [
    "df_business.columns"
   ]
  },
  {
   "cell_type": "code",
   "execution_count": 32,
   "metadata": {
    "hidden": true
   },
   "outputs": [],
   "source": [
    "# Completely irrelevant features just drop\n",
    "x_bus = df_business.drop(['address','attributes','hours','is_open','latitude', 'longitude','state'], axis=1)\n",
    "x_bus = x_bus.drop(['stars'],axis=1)\n",
    "y_bus = df_business['stars']"
   ]
  },
  {
   "cell_type": "code",
   "execution_count": 33,
   "metadata": {
    "hidden": true,
    "scrolled": false
   },
   "outputs": [
    {
     "data": {
      "text/plain": [
       "Index(['attributes_AcceptsInsurance', 'attributes_AgesAllowed',\n",
       "       'attributes_Alcohol', 'attributes_Ambience', 'attributes_BYOB',\n",
       "       'attributes_BYOBCorkage', 'attributes_BestNights',\n",
       "       'attributes_BikeParking', 'attributes_BusinessAcceptsBitcoin',\n",
       "       'attributes_BusinessAcceptsCreditCards', 'attributes_BusinessParking',\n",
       "       'attributes_ByAppointmentOnly', 'attributes_Caters',\n",
       "       'attributes_CoatCheck', 'attributes_Corkage',\n",
       "       'attributes_DietaryRestrictions', 'attributes_DogsAllowed',\n",
       "       'attributes_DriveThru', 'attributes_GoodForDancing',\n",
       "       'attributes_GoodForKids', 'attributes_GoodForMeal',\n",
       "       'attributes_HairSpecializesIn', 'attributes_HappyHour',\n",
       "       'attributes_HasTV', 'attributes_Music', 'attributes_NoiseLevel',\n",
       "       'attributes_Open24Hours', 'attributes_OutdoorSeating',\n",
       "       'attributes_RestaurantsAttire', 'attributes_RestaurantsCounterService',\n",
       "       'attributes_RestaurantsDelivery', 'attributes_RestaurantsGoodForGroups',\n",
       "       'attributes_RestaurantsPriceRange2',\n",
       "       'attributes_RestaurantsReservations',\n",
       "       'attributes_RestaurantsTableService', 'attributes_RestaurantsTakeOut',\n",
       "       'attributes_Smoking', 'attributes_WheelchairAccessible',\n",
       "       'attributes_WiFi'],\n",
       "      dtype='object')"
      ]
     },
     "execution_count": 33,
     "metadata": {},
     "output_type": "execute_result"
    }
   ],
   "source": [
    "# Hard to run MCA features drop\n",
    "x_bus = x_bus.drop(['name','city','business_id','postal_code', 'categories', 'neighborhood', 'review_count'],axis=1)\n",
    "\n",
    "# Time\n",
    "time_bus = df_business[['hours_Friday', 'hours_Monday', 'hours_Saturday', 'hours_Sunday', 'hours_Thursday', 'hours_Tuesday', 'hours_Wednesday']]\n",
    "x_bus = x_bus.drop(['hours_Friday', 'hours_Monday', 'hours_Saturday', 'hours_Sunday', 'hours_Thursday',\n",
    "       'hours_Tuesday', 'hours_Wednesday'], axis=1)\n",
    "x_bus = x_bus.fillna('False')\n",
    "x_bus = x_bus.astype('str')\n",
    "\n",
    "x_bus.columns"
   ]
  },
  {
   "cell_type": "code",
   "execution_count": 172,
   "metadata": {
    "hidden": true
   },
   "outputs": [],
   "source": [
    "np.random.seed(1234)\n",
    "import prince\n",
    "mca = prince.MCA(n_components=10,n_iter=3,copy=True,check_input=True,engine='auto',random_state=42)\n",
    "mca = mca.fit(x_bus)"
   ]
  },
  {
   "cell_type": "code",
   "execution_count": 173,
   "metadata": {
    "hidden": true
   },
   "outputs": [
    {
     "data": {
      "text/plain": [
       "[0.027650883637174495,\n",
       " 0.014507282777959407,\n",
       " 0.009005053661849841,\n",
       " 0.007642034452248438,\n",
       " 0.005331011316530616,\n",
       " 0.004928631712920069,\n",
       " 0.00444740203792691,\n",
       " 0.0042788510622022435,\n",
       " 0.003976912328387825,\n",
       " 0.0038917862397062973]"
      ]
     },
     "execution_count": 173,
     "metadata": {},
     "output_type": "execute_result"
    }
   ],
   "source": [
    "mca.explained_inertia_"
   ]
  },
  {
   "cell_type": "code",
   "execution_count": 174,
   "metadata": {
    "hidden": true
   },
   "outputs": [
    {
     "data": {
      "text/html": [
       "<div>\n",
       "<style scoped>\n",
       "    .dataframe tbody tr th:only-of-type {\n",
       "        vertical-align: middle;\n",
       "    }\n",
       "\n",
       "    .dataframe tbody tr th {\n",
       "        vertical-align: top;\n",
       "    }\n",
       "\n",
       "    .dataframe thead th {\n",
       "        text-align: right;\n",
       "    }\n",
       "</style>\n",
       "<table border=\"1\" class=\"dataframe\">\n",
       "  <thead>\n",
       "    <tr style=\"text-align: right;\">\n",
       "      <th></th>\n",
       "      <th>0</th>\n",
       "      <th>1</th>\n",
       "      <th>2</th>\n",
       "      <th>3</th>\n",
       "      <th>4</th>\n",
       "      <th>5</th>\n",
       "      <th>6</th>\n",
       "      <th>7</th>\n",
       "      <th>8</th>\n",
       "      <th>9</th>\n",
       "    </tr>\n",
       "  </thead>\n",
       "  <tbody>\n",
       "    <tr>\n",
       "      <th>0</th>\n",
       "      <td>-0.260419</td>\n",
       "      <td>0.059575</td>\n",
       "      <td>0.338304</td>\n",
       "      <td>-0.113515</td>\n",
       "      <td>-0.456811</td>\n",
       "      <td>0.245408</td>\n",
       "      <td>-0.051320</td>\n",
       "      <td>-0.015383</td>\n",
       "      <td>-0.086962</td>\n",
       "      <td>0.178741</td>\n",
       "    </tr>\n",
       "    <tr>\n",
       "      <th>1</th>\n",
       "      <td>-0.457332</td>\n",
       "      <td>0.187218</td>\n",
       "      <td>-0.452713</td>\n",
       "      <td>-0.198582</td>\n",
       "      <td>0.287577</td>\n",
       "      <td>-0.403200</td>\n",
       "      <td>0.289862</td>\n",
       "      <td>0.021253</td>\n",
       "      <td>-0.071554</td>\n",
       "      <td>-0.318788</td>\n",
       "    </tr>\n",
       "    <tr>\n",
       "      <th>2</th>\n",
       "      <td>-0.205189</td>\n",
       "      <td>0.224410</td>\n",
       "      <td>-0.384836</td>\n",
       "      <td>-0.076087</td>\n",
       "      <td>0.048527</td>\n",
       "      <td>-0.370134</td>\n",
       "      <td>0.256960</td>\n",
       "      <td>0.372628</td>\n",
       "      <td>0.036374</td>\n",
       "      <td>-0.193460</td>\n",
       "    </tr>\n",
       "    <tr>\n",
       "      <th>3</th>\n",
       "      <td>-0.241047</td>\n",
       "      <td>-0.308431</td>\n",
       "      <td>0.000048</td>\n",
       "      <td>0.094074</td>\n",
       "      <td>-0.013808</td>\n",
       "      <td>0.061003</td>\n",
       "      <td>-0.106253</td>\n",
       "      <td>-0.063275</td>\n",
       "      <td>-0.005884</td>\n",
       "      <td>-0.104126</td>\n",
       "    </tr>\n",
       "    <tr>\n",
       "      <th>4</th>\n",
       "      <td>-0.366838</td>\n",
       "      <td>-0.170463</td>\n",
       "      <td>0.029194</td>\n",
       "      <td>-0.045409</td>\n",
       "      <td>0.117316</td>\n",
       "      <td>0.154084</td>\n",
       "      <td>-0.096386</td>\n",
       "      <td>-0.142722</td>\n",
       "      <td>-0.035668</td>\n",
       "      <td>-0.061677</td>\n",
       "    </tr>\n",
       "  </tbody>\n",
       "</table>\n",
       "</div>"
      ],
      "text/plain": [
       "          0         1         2         3         4         5         6  \\\n",
       "0 -0.260419  0.059575  0.338304 -0.113515 -0.456811  0.245408 -0.051320   \n",
       "1 -0.457332  0.187218 -0.452713 -0.198582  0.287577 -0.403200  0.289862   \n",
       "2 -0.205189  0.224410 -0.384836 -0.076087  0.048527 -0.370134  0.256960   \n",
       "3 -0.241047 -0.308431  0.000048  0.094074 -0.013808  0.061003 -0.106253   \n",
       "4 -0.366838 -0.170463  0.029194 -0.045409  0.117316  0.154084 -0.096386   \n",
       "\n",
       "          7         8         9  \n",
       "0 -0.015383 -0.086962  0.178741  \n",
       "1  0.021253 -0.071554 -0.318788  \n",
       "2  0.372628  0.036374 -0.193460  \n",
       "3 -0.063275 -0.005884 -0.104126  \n",
       "4 -0.142722 -0.035668 -0.061677  "
      ]
     },
     "execution_count": 174,
     "metadata": {},
     "output_type": "execute_result"
    }
   ],
   "source": [
    "x_mca = mca.transform(x_bus)\n",
    "x_mca.head()"
   ]
  },
  {
   "cell_type": "code",
   "execution_count": 175,
   "metadata": {
    "hidden": true
   },
   "outputs": [
    {
     "data": {
      "image/png": "[encoded data removed]",
      "text/plain": [
       "<Figure size 432x432 with 1 Axes>"
      ]
     },
     "metadata": {
      "needs_background": "light"
     },
     "output_type": "display_data"
    }
   ],
   "source": [
    "ax = mca.plot_coordinates(\n",
    "     X=x_bus,\n",
    "     ax=None,\n",
    "     figsize=(6, 6),\n",
    "     show_row_points=True,\n",
    "     row_points_size=10,\n",
    "     show_row_labels=False,\n",
    "     show_column_points=True,\n",
    "     column_points_size=30,\n",
    "     show_column_labels=False,\n",
    "     legend_n_cols=1\n",
    ")"
   ]
  },
  {
   "cell_type": "code",
   "execution_count": null,
   "metadata": {
    "hidden": true
   },
   "outputs": [],
   "source": []
  },
  {
   "cell_type": "code",
   "execution_count": 88,
   "metadata": {
    "hidden": true
   },
   "outputs": [],
   "source": [
    "# # aggregate all non restaurant attributes, restaurant attributes\n",
    "# # Resulting features: nonres_attributes, res_attributes\n",
    "# att_features = [c for c in df_business.columns if c.startswith('attributes')][1:]  # 'drop 'attributes' since its first'\n",
    "# nonres_feats = ['attributes_AcceptsInsurance', 'attributes_AgesAllowed','attributes_BikeParking', 'attributes_BusinessAcceptsBitcoin',\n",
    "#        'attributes_BusinessAcceptsCreditCards', 'attributes_BusinessParking',\n",
    "#        'attributes_ByAppointmentOnly', 'attributes_CoatCheck', 'attributes_DogsAllowed', 'attributes_HairSpecializesIn']\n",
    "# res_feats = [a for a in att_features if a not in nonres_feats]"
   ]
  },
  {
   "cell_type": "code",
   "execution_count": 100,
   "metadata": {
    "hidden": true
   },
   "outputs": [],
   "source": [
    "# x_bus = x_bus.fillna('Missing') "
   ]
  },
  {
   "cell_type": "code",
   "execution_count": 93,
   "metadata": {
    "hidden": true
   },
   "outputs": [
    {
     "name": "stdout",
     "output_type": "stream",
     "text": [
      "attributes_AcceptsInsurance 11888 12058\n",
      "attributes_AgesAllowed 11992 12058\n",
      "attributes_BikeParking 1462 12058\n",
      "attributes_BusinessAcceptsBitcoin 10246 12058\n",
      "attributes_BusinessAcceptsCreditCards 582 12058\n",
      "attributes_BusinessParking 1283 12058\n",
      "attributes_ByAppointmentOnly 10720 12058\n",
      "attributes_CoatCheck 9924 12058\n",
      "attributes_DogsAllowed 9324 12058\n",
      "attributes_HairSpecializesIn 11978 12058\n"
     ]
    }
   ],
   "source": [
    "# x_bus[nonres_feats] = x_bus[nonres_feats].fillna(0)\n",
    "# for c in x_bus[nonres_feats].columns:\n",
    "#     x_bus[c] = face"
   ]
  },
  {
   "cell_type": "markdown",
   "metadata": {
    "hidden": true
   },
   "source": [
    "In the end, I'm not going to make a kNN. The preprocessing of that many categorical variables is tedious work and the sparsity resulting from one-hot encoding would only lower accuracy past baseline for sure. MCA clearly won't work. this looks like a case for RF"
   ]
  },
  {
   "cell_type": "markdown",
   "metadata": {
    "heading_collapsed": true
   },
   "source": [
    "## User-Based KNN"
   ]
  },
  {
   "cell_type": "markdown",
   "metadata": {
    "hidden": true
   },
   "source": [
    "yelping_since feature probably needs converting to a datetime. Let's look at the variance after normalizng of some of the variables and decide throw some out because of sparsity. Taking out name. yelping_since too for now"
   ]
  },
  {
   "cell_type": "code",
   "execution_count": 39,
   "metadata": {
    "hidden": true
   },
   "outputs": [
    {
     "data": {
      "text/plain": [
       "<matplotlib.axes._subplots.AxesSubplot at 0x1ff9ffcd630>"
      ]
     },
     "execution_count": 39,
     "metadata": {},
     "output_type": "execute_result"
    },
    {
     "data": {
      "image/png": "[encoded data removed]",
      "text/plain": [
       "<Figure size 432x288 with 2 Axes>"
      ]
     },
     "metadata": {
      "needs_background": "light"
     },
     "output_type": "display_data"
    }
   ],
   "source": [
    "x_corr = user_data.drop('user_id',axis=1)\n",
    "corr = user_data.corr()\n",
    "sns.heatmap(corr)"
   ]
  },
  {
   "cell_type": "markdown",
   "metadata": {
    "hidden": true
   },
   "source": [
    "as expected, anything that starts with compliment correlates with each other. cuz theres like tons of 0's in them. all the other columns don't correlate. And everything negatively correlates to average stars haha"
   ]
  },
  {
   "cell_type": "markdown",
   "metadata": {
    "heading_collapsed": true,
    "hidden": true
   },
   "source": [
    "### Small test with kNN"
   ]
  },
  {
   "cell_type": "code",
   "execution_count": 28,
   "metadata": {
    "hidden": true
   },
   "outputs": [],
   "source": [
    "from sklearn.neighbors import KNeighborsRegressor\n",
    "from sklearn.preprocessing import StandardScaler\n",
    "from sklearn.model_selection import train_test_split\n",
    "from sklearn.metrics import mean_squared_error \n",
    "from math import sqrt"
   ]
  },
  {
   "cell_type": "code",
   "execution_count": 40,
   "metadata": {
    "hidden": true
   },
   "outputs": [],
   "source": [
    "train, val = train_test_split(x_users.drop('user_id',axis=1), test_size=.2)\n",
    "\n",
    "X_train = train.drop('average_stars', axis=1)\n",
    "y_train = train['average_stars']\n",
    "\n",
    "X_val = val.drop('average_stars',axis=1)\n",
    "y_val = val['average_stars']"
   ]
  },
  {
   "cell_type": "code",
   "execution_count": 41,
   "metadata": {
    "hidden": true
   },
   "outputs": [
    {
     "name": "stderr",
     "output_type": "stream",
     "text": [
      "D:\\Users\\aznro\\Anaconda3\\envs\\fastai\\lib\\site-packages\\sklearn\\preprocessing\\data.py:625: DataConversionWarning: Data with input dtype int64 were all converted to float64 by StandardScaler.\n",
      "  return self.partial_fit(X, y)\n",
      "D:\\Users\\aznro\\Anaconda3\\envs\\fastai\\lib\\site-packages\\ipykernel_launcher.py:4: DataConversionWarning: Data with input dtype int64 were all converted to float64 by StandardScaler.\n",
      "  after removing the cwd from sys.path.\n",
      "D:\\Users\\aznro\\Anaconda3\\envs\\fastai\\lib\\site-packages\\ipykernel_launcher.py:5: DataConversionWarning: Data with input dtype int64 were all converted to float64 by StandardScaler.\n",
      "  \"\"\"\n"
     ]
    }
   ],
   "source": [
    "scaler = StandardScaler()\n",
    "scaler.fit(X_train)\n",
    "\n",
    "X_train = scaler.transform(X_train)\n",
    "X_val = scaler.transform(X_val)"
   ]
  },
  {
   "cell_type": "code",
   "execution_count": 325,
   "metadata": {
    "hidden": true,
    "scrolled": false
   },
   "outputs": [
    {
     "name": "stdout",
     "output_type": "stream",
     "text": [
      "RMSE error for 1 neighbors: 1.3843047801524158\n",
      "RMSE error for 2 neighbors: 1.1914878232340298\n",
      "RMSE error for 3 neighbors: 1.1663683695457672\n",
      "RMSE error for 4 neighbors: 1.1228145574396524\n",
      "RMSE error for 5 neighbors: 1.1093142817967814\n",
      "RMSE error for 6 neighbors: 1.0858626622562806\n",
      "RMSE error for 7 neighbors: 1.0830720151034303\n"
     ]
    }
   ],
   "source": [
    "for K in range(1,8):\n",
    "    regressor = KNeighborsRegressor(n_neighbors=K, weights='distance',metric='cosine')\n",
    "    regressor.fit(X_train,y_train)\n",
    "    pred = regressor.predict(X_val)\n",
    "    error = sqrt(mean_squared_error(y_val,pred)) #calculate rmse\n",
    "    print('RMSE error for {} neighbors: {}'.format(K,error))"
   ]
  },
  {
   "cell_type": "markdown",
   "metadata": {},
   "source": [
    "## User-based KNN"
   ]
  },
  {
   "cell_type": "markdown",
   "metadata": {},
   "source": [
    "Just for predicting average stars of similar users it works pretty well. This is only a test. When it comes to predicting business's ratings, the sparsity will become an issue so i won't prove it here. Now I make the actual model"
   ]
  },
  {
   "cell_type": "markdown",
   "metadata": {},
   "source": [
    "#### kNN Helper Functions\n"
   ]
  },
  {
   "cell_type": "code",
   "execution_count": 387,
   "metadata": {},
   "outputs": [],
   "source": [
    "def getNeighDict(neigh, X_train, X_test, n_neighbors=4):\n",
    "    ''' Key: User_id \n",
    "        Value: K Nearest Neighbors in X_train for every user in X_test\n",
    "        \n",
    "        Careful! it uses the global df_users\n",
    "    '''\n",
    "    u_ids_trn = X_train.user_id   # X_train should have user_id and X_users doesn't\n",
    "    X_users = X_train.drop('user_id',axis=1)\n",
    "#     u_ids = X_train[['user_id']].user_id\n",
    "    user_vals = X_users.values\n",
    "    nhbrs_dict = dict()\n",
    "    \n",
    "    for u in tqdm(X_test.user_id.unique(), desc='NeighDict'):\n",
    "        # Assume every user is in df_user\n",
    "        # nhbrs gives back indices of the nearest neighbors of the vector user_id == u for X_users\n",
    "        nhbrs = neigh.kneighbors([user_vals[u]], n_neighbors=n_neighbors, return_distance=False)[0]\n",
    "        nhbrs_dict[u] = nhbrs\n",
    "        # Using the indicies, get the user_id\n",
    "#         nhbrs_dict[u] = u_ids.iloc[nhbrs[1:]].tolist()  #take out first since it'll always be the same user as input user\n",
    "    return nhbrs_dict\n",
    "\n",
    "def getBusAvgDict(X_test):\n",
    "    ''' Gets the avg of all Business_Id in test set. just using the stars columns. Use for validation data.\n",
    "        It geets all the averages frrom bus_data for all business appearing in val data.\n",
    "    \n",
    "        Careful! it uses global bus_data\n",
    "    '''\n",
    "    bus_avg = dict()\n",
    "    # kNN_bus is just a dataframe with only business_id and stars\n",
    "    kNN_bus_vals = bus_data['average_stars'].values\n",
    "    b_test = X_test.business_id.unique()\n",
    "    \n",
    "    for b in tqdm(b_test, desc='BusAvgDict'):\n",
    "        # Assume bus_data has every business\n",
    "        bus_avg[b] = kNN_bus_vals[b]\n",
    "    return bus_avg\n",
    "\n",
    "def getUserAvgDict(X_test):\n",
    "    '''Ditto business average but for users'''\n",
    "    user_avg = dict()\n",
    "    kNN_user_vals = user_data['average_stars'].values\n",
    "    u_test = X_test.user_id.unique()\n",
    "    \n",
    "    for u in tqdm(u_test, desc='UserAvgDict'):\n",
    "         user_avg[u] = kNN_user_vals[u]\n",
    "    return user_avg\n",
    "\n",
    "# key = user_id, value is list of all the businesses in train_reviews that user_id rated\n",
    "def getUBDict():\n",
    "    ''' Key: tuple of user_id, business_id seen in train_reviews\n",
    "        Value: Rating user gave to that business\n",
    "        \n",
    "        Careful! Uses global trn_data\n",
    "    '''\n",
    "    ub_dict = dict()\n",
    "    v = trn_data[['business_id','stars','user_id']].values\n",
    "    for i in tqdm(range(len(trn_data)), desc='UBDict'):\n",
    "        user = v[i,2]\n",
    "        bus = v[i,0]\n",
    "        star = v[i,1]\n",
    "        if (user, bus) in ub_dict:\n",
    "            raise Exception('same pair in train_data') \n",
    "        else:\n",
    "            ub_dict[(int(user),int(bus))] = star\n",
    "    return ub_dict"
   ]
  },
  {
   "cell_type": "markdown",
   "metadata": {},
   "source": [
    "#### User-based kNN"
   ]
  },
  {
   "cell_type": "code",
   "execution_count": 20,
   "metadata": {},
   "outputs": [
    {
     "name": "stdout",
     "output_type": "stream",
     "text": [
      "UBDict: 100%|█████████████████████████████████████████████████████████████| 150232/150232 [00:00<00:00, 1068122.68it/s]\n"
     ]
    }
   ],
   "source": [
    "ub = getUBDict()     # train_reviews turned into (u,b) : star"
   ]
  },
  {
   "cell_type": "code",
   "execution_count": 92,
   "metadata": {},
   "outputs": [],
   "source": [
    "# Make Nearest Neighbor model\n",
    "# Don't forget Standard Scaler\n",
    "from sklearn.preprocessing import StandardScaler\n",
    "from sklearn.neighbors import NearestNeighbors\n",
    "from sklearn.preprocessing import RobustScaler\n",
    "def kNN_Yelp(X_train, X_test, n_neighbors=4):\n",
    "    neigh = NearestNeighbors(n_neighbors=n_neighbors, algorithm='auto', metric='cosine')\n",
    "    X_users = X_train.drop('user_id',axis=1).astype(np.float64)\n",
    "    u_ids = X_train[['user_id']]\n",
    "    \n",
    "#     scaler = StandardScaler()\n",
    "#     scaler.fit(X_users)\n",
    "#     X_users = scaler.transform(X_users)\n",
    "    scaler = RobustScaler()\n",
    "    scaler.fit(X_users)\n",
    "    X_users = scaler.transform(X_users)\n",
    "    neigh.fit(X_users)\n",
    "    \n",
    "    # average ratings for each business\n",
    "    bd = getBusAvgDict(X_train)\n",
    "    ud = getUserAvgDict(X_train)\n",
    "    \n",
    "    # get a dictionary; for every user in X_test find the closest k users. then get their ratings for the business b\n",
    "    # if they didn't rate business b, then use the user business or user average\n",
    "    nd = getNeighDict(neigh, X_train, X_test, n_neighbors=4)\n",
    "    preds = []\n",
    "    X_test_vals = X_test[['user_id','business_id']].values\n",
    "    for i in tqdm(range(len(X_test)), desc='Preds'):\n",
    "        u,b = X_test_vals[i,0], X_test_vals[i,1]  #user and business\n",
    "        near_users = nd[u]\n",
    "        total = 0\n",
    "        for n in near_users:\n",
    "            if (n,b) in ub:\n",
    "                total += ub[(n,b)]\n",
    "            else:\n",
    "                total += ud[u]  # user user or business average\n",
    "        preds.append(total/n_neighbors)\n",
    "    return preds"
   ]
  },
  {
   "cell_type": "markdown",
   "metadata": {},
   "source": [
    "cross validate for a good K"
   ]
  },
  {
   "cell_type": "code",
   "execution_count": 93,
   "metadata": {},
   "outputs": [
    {
     "name": "stdout",
     "output_type": "stream",
     "text": [
      "BusAvgDict: 100%|███████████████████████████████████████████████████████████| 10468/10468 [00:00<00:00, 2088373.97it/s]\n",
      "UserAvgDict: 100%|██████████████████████████████████████████████████████████| 14145/14145 [00:00<00:00, 2026451.82it/s]\n",
      "NeighDict: 100%|████████████████████████████████████████████████████████████████| 14145/14145 [01:56<00:00, 121.86it/s]\n",
      "Preds: 100%|█████████████████████████████████████████████████████████████████| 50077/50077 [00:00<00:00, 205783.18it/s]\n"
     ]
    },
    {
     "data": {
      "text/plain": [
       "1.1185436267815747"
      ]
     },
     "execution_count": 93,
     "metadata": {},
     "output_type": "execute_result"
    }
   ],
   "source": [
    "# just testing kNN\n",
    "kNN_preds = kNN_Yelp(user_data, val_data, n_neighbors=4)\n",
    "y_predicted = kNN_preds\n",
    "y_actual = val_queries.stars.values\n",
    "rmse_error = sqrt(mean_squared_error(y_actual, y_predicted))\n",
    "rmse_error"
   ]
  },
  {
   "cell_type": "markdown",
   "metadata": {},
   "source": [
    "kNN so bad (probably cuz of sparsity) that taking standardscaler gives the same rmse. aigoo. kNN so bad this might as well be baseline hahaha"
   ]
  },
  {
   "cell_type": "code",
   "execution_count": 91,
   "metadata": {},
   "outputs": [
    {
     "name": "stdout",
     "output_type": "stream",
     "text": [
      "BusAvgDict: 100%|███████████████████████████████████████████████████████████| 10468/10468 [00:00<00:00, 2087976.71it/s]\n",
      "UserAvgDict: 100%|██████████████████████████████████████████████████████████| 14145/14145 [00:00<00:00, 2026659.50it/s]\n",
      "NeighDict: 100%|████████████████████████████████████████████████████████████████| 14145/14145 [01:58<00:00, 118.99it/s]\n",
      "Preds: 100%|█████████████████████████████████████████████████████████████████| 50077/50077 [00:00<00:00, 211859.73it/s]\n"
     ]
    },
    {
     "data": {
      "text/plain": [
       "1.11855594298306"
      ]
     },
     "execution_count": 91,
     "metadata": {},
     "output_type": "execute_result"
    }
   ],
   "source": [
    "# just testing kNN\n",
    "kNN_preds = kNN_Yelp(user_data, val_data, n_neighbors=4)\n",
    "y_predicted = kNN_preds\n",
    "y_actual = val_queries.stars.values\n",
    "rmse_error = sqrt(mean_squared_error(y_actual, y_predicted))\n",
    "rmse_error"
   ]
  },
  {
   "cell_type": "code",
   "execution_count": 29,
   "metadata": {
    "collapsed": true
   },
   "outputs": [
    {
     "name": "stdout",
     "output_type": "stream",
     "text": [
      "BusAvgDict: 100%|███████████████████████████████████████████████████████████| 10468/10468 [00:00<00:00, 2607397.96it/s]\n",
      "NeighDict: 100%|████████████████████████████████████████████████████████████████| 14145/14145 [01:48<00:00, 130.70it/s]\n",
      "Preds: 100%|█████████████████████████████████████████████████████████████████| 50077/50077 [00:00<00:00, 224156.67it/s]\n",
      "BusAvgDict: 100%|███████████████████████████████████████████████████████████| 10468/10468 [00:00<00:00, 2624385.79it/s]\n",
      "NeighDict: 100%|████████████████████████████████████████████████████████████████| 14145/14145 [01:46<00:00, 132.61it/s]\n",
      "Preds: 100%|█████████████████████████████████████████████████████████████████| 50077/50077 [00:00<00:00, 219261.39it/s]\n",
      "BusAvgDict: 100%|███████████████████████████████████████████████████████████| 10468/10468 [00:00<00:00, 2607552.81it/s]\n",
      "NeighDict: 100%|████████████████████████████████████████████████████████████████| 14145/14145 [01:47<00:00, 131.34it/s]\n",
      "Preds: 100%|█████████████████████████████████████████████████████████████████| 50077/50077 [00:00<00:00, 210971.50it/s]\n",
      "BusAvgDict: 100%|███████████████████████████████████████████████████████████| 10468/10468 [00:00<00:00, 2624228.93it/s]\n",
      "NeighDict: 100%|████████████████████████████████████████████████████████████████| 14145/14145 [01:48<00:00, 130.37it/s]\n",
      "Preds: 100%|█████████████████████████████████████████████████████████████████| 50077/50077 [00:00<00:00, 216401.00it/s]\n",
      "BusAvgDict: 100%|███████████████████████████████████████████████████████████| 10468/10468 [00:00<00:00, 2089467.20it/s]\n",
      "NeighDict: 100%|████████████████████████████████████████████████████████████████| 14145/14145 [01:48<00:00, 130.32it/s]\n",
      "Preds: 100%|█████████████████████████████████████████████████████████████████| 50077/50077 [00:00<00:00, 234626.56it/s]\n",
      "BusAvgDict: 100%|███████████████████████████████████████████████████████████| 10468/10468 [00:00<00:00, 2624542.67it/s]\n",
      "NeighDict: 100%|████████████████████████████████████████████████████████████████| 14145/14145 [01:50<00:00, 128.38it/s]\n",
      "Preds: 100%|█████████████████████████████████████████████████████████████████| 50077/50077 [00:00<00:00, 215497.13it/s]\n",
      "BusAvgDict: 100%|███████████████████████████████████████████████████████████| 10468/10468 [00:00<00:00, 2088175.32it/s]\n",
      "NeighDict: 100%|████████████████████████████████████████████████████████████████| 14145/14145 [01:48<00:00, 130.65it/s]\n",
      "Preds: 100%|█████████████████████████████████████████████████████████████████| 50077/50077 [00:00<00:00, 200822.42it/s]\n",
      "BusAvgDict: 100%|███████████████████████████████████████████████████████████| 10468/10468 [00:00<00:00, 2606933.52it/s]\n",
      "NeighDict: 100%|████████████████████████████████████████████████████████████████| 14145/14145 [01:48<00:00, 130.00it/s]\n",
      "Preds: 100%|█████████████████████████████████████████████████████████████████| 50077/50077 [00:00<00:00, 230296.67it/s]\n",
      "BusAvgDict: 100%|███████████████████████████████████████████████████████████| 10468/10468 [00:00<00:00, 2087976.71it/s]\n",
      "NeighDict: 100%|████████████████████████████████████████████████████████████████| 14145/14145 [01:49<00:00, 129.23it/s]\n",
      "Preds: 100%|█████████████████████████████████████████████████████████████████| 50077/50077 [00:00<00:00, 213663.61it/s]\n",
      "BusAvgDict: 100%|███████████████████████████████████████████████████████████| 10468/10468 [00:00<00:00, 2090163.49it/s]\n",
      "NeighDict: 100%|████████████████████████████████████████████████████████████████| 14145/14145 [01:49<00:00, 128.86it/s]\n",
      "Preds: 100%|█████████████████████████████████████████████████████████████████| 50077/50077 [00:00<00:00, 220200.87it/s]\n",
      "BusAvgDict: 100%|███████████████████████████████████████████████████████████| 10468/10468 [00:00<00:00, 2606933.52it/s]\n",
      "NeighDict: 100%|████████████████████████████████████████████████████████████████| 14145/14145 [01:44<00:00, 135.69it/s]\n",
      "Preds: 100%|█████████████████████████████████████████████████████████████████| 50077/50077 [00:00<00:00, 265664.95it/s]\n",
      "BusAvgDict: 100%|███████████████████████████████████████████████████████████| 10468/10468 [00:00<00:00, 2624072.09it/s]\n",
      "NeighDict: 100%|████████████████████████████████████████████████████████████████| 14145/14145 [01:41<00:00, 138.80it/s]\n",
      "Preds: 100%|█████████████████████████████████████████████████████████████████| 50077/50077 [00:00<00:00, 286919.35it/s]\n",
      "BusAvgDict: 100%|███████████████████████████████████████████████████████████| 10468/10468 [00:00<00:00, 2625327.33it/s]\n",
      "NeighDict: 100%|████████████████████████████████████████████████████████████████| 14145/14145 [01:40<00:00, 140.35it/s]\n",
      "Preds: 100%|█████████████████████████████████████████████████████████████████| 50077/50077 [00:00<00:00, 232457.78it/s]\n",
      "BusAvgDict: 100%|███████████████████████████████████████████████████████████| 10468/10468 [00:00<00:00, 2087976.71it/s]\n",
      "NeighDict: 100%|████████████████████████████████████████████████████████████████| 14145/14145 [01:41<00:00, 138.81it/s]\n",
      "Preds: 100%|█████████████████████████████████████████████████████████████████| 50077/50077 [00:00<00:00, 246131.64it/s]\n",
      "BusAvgDict: 100%|███████████████████████████████████████████████████████████| 10468/10468 [00:00<00:00, 2099558.83it/s]\n",
      "NeighDict: 100%|████████████████████████████████████████████████████████████████| 14145/14145 [01:44<00:00, 135.15it/s]\n",
      "Preds: 100%|█████████████████████████████████████████████████████████████████| 50077/50077 [00:00<00:00, 283634.89it/s]\n",
      "BusAvgDict: 100%|███████████████████████████████████████████████████████████| 10468/10468 [00:00<00:00, 2099759.65it/s]\n",
      "NeighDict: 100%|████████████████████████████████████████████████████████████████| 14145/14145 [01:45<00:00, 134.06it/s]\n",
      "Preds: 100%|█████████████████████████████████████████████████████████████████| 50077/50077 [00:00<00:00, 275884.29it/s]\n",
      "BusAvgDict: 100%|███████████████████████████████████████████████████████████| 10468/10468 [00:00<00:00, 2091557.46it/s]\n",
      "NeighDict: 100%|████████████████████████████████████████████████████████████████| 14145/14145 [01:48<00:00, 130.05it/s]\n",
      "Preds: 100%|█████████████████████████████████████████████████████████████████| 50077/50077 [00:00<00:00, 247363.89it/s]\n",
      "BusAvgDict: 100%|███████████████████████████████████████████████████████████| 10468/10468 [00:00<00:00, 2099257.67it/s]\n",
      "NeighDict: 100%|████████████████████████████████████████████████████████████████| 14145/14145 [01:49<00:00, 129.10it/s]\n",
      "Preds: 100%|█████████████████████████████████████████████████████████████████| 50077/50077 [00:00<00:00, 210087.53it/s]\n",
      "BusAvgDict: 100%|███████████████████████████████████████████████████████████| 10468/10468 [00:00<00:00, 2099558.83it/s]\n",
      "NeighDict: 100%|████████████████████████████████████████████████████████████████| 14145/14145 [01:56<00:00, 121.47it/s]\n",
      "Preds: 100%|█████████████████████████████████████████████████████████████████| 50077/50077 [00:00<00:00, 269949.03it/s]\n",
      "[5.9123030473132925, 2.2144396322067967, 1.3113316673029543, 1.1868909683534463, 1.2775618922001712, 1.3971255969228094, 1.5046777838562313, 1.5949557016214655, 1.6699231402057717, 1.7324934586073402, 1.7852201079990064, 1.8301202228611513, 1.8687452973282774, 1.9022856471640077, 1.9316603452684684, 1.9575859927236527, 1.9806274086064888, 2.0012346530256004, 2.0197701276774946]\n"
     ]
    }
   ],
   "source": [
    "from sklearn.model_selection import StratifiedKFold\n",
    "from sklearn.model_selection import cross_val_score\n",
    "from sklearn.metrics import mean_squared_error \n",
    "from math import sqrt\n",
    "# kNN_preds = kNN_Yelp(user_data, val_data)\n",
    "\n",
    "n_folds = 5\n",
    "cv_scores = []\n",
    "best_kNN_preds = None\n",
    "lowest_rmse_error = 999\n",
    "for k in range(1,20):   \n",
    "    # NOT CROSS VAL!!!!!!!!!!!!!!!!! \n",
    "    kNN_preds = kNN_Yelp(user_data, val_data, n_neighbors=k)\n",
    "    y_predicted = [(g+h)/2 for g,h in zip(flat_preds,kNN_preds)]\n",
    "    y_actual = val_queries.stars.values\n",
    "    rmse_error = sqrt(mean_squared_error(y_actual, y_predicted))\n",
    "    if rmse_error < lowest_rmse_error:\n",
    "        lowest_rmse_error = rmse_error\n",
    "        best_kNN_preds = kNN_preds\n",
    "    cv_scores.append(rmse_error)\n",
    "\n",
    "#     kf = StratifiedKFold(n_splits=n_folds, shuffle=True, random_state=42)\n",
    "#     scores = np.sqrt(-cross_val_score(kNN_Yelp, user_data, val_data, scoring=\"neg_mean_squared_error\", cv = kf))\n",
    "#     cv_scores.append(scores.mean())\n",
    "print(cv_scores)"
   ]
  },
  {
   "cell_type": "markdown",
   "metadata": {},
   "source": [
    "#### Hybrid Collaborative filtering?\n",
    "\n",
    "I just want to see if I can combine two collaborative filtering techniques. One is model-based which is the embeddingnet. the other is memory-based which is the kNN. \n",
    "\n",
    "I'll do it by simply weighting their like $\\alpha*KNNpred + \\beta*EmbeddingNetpred = pred$, for each user. There are many entries with the same user in val_queries. $\\alpha$ + $\\beta$ = 1, where alpha is (the amount kNN_pred is better than EmbeddingNetpred)/ total_pred; and same with beta. \n",
    "\n",
    "Then when eval the final queries, we first find the predictions for each entry, and then weight according to user_id. "
   ]
  },
  {
   "cell_type": "code",
   "execution_count": 81,
   "metadata": {},
   "outputs": [
    {
     "name": "stdout",
     "output_type": "stream",
     "text": [
      "BusAvgDict: 100%|███████████████████████████████████████████████████████████| 10572/10572 [00:00<00:00, 2649667.28it/s]\n",
      "UserAvgDict: 100%|██████████████████████████████████████████████████████████| 16556/16556 [00:00<00:00, 1509191.02it/s]\n",
      "NeighDict: 100%|████████████████████████████████████████████████████████████████| 16556/16556 [02:06<00:00, 130.43it/s]\n",
      "Preds: 100%|███████████████████████████████████████████████████████████████| 150232/150232 [00:00<00:00, 254879.49it/s]\n"
     ]
    }
   ],
   "source": [
    "kNN_preds = kNN_Yelp(user_data, trn_data[['user_id','business_id']], n_neighbors=4)"
   ]
  },
  {
   "cell_type": "code",
   "execution_count": 82,
   "metadata": {},
   "outputs": [],
   "source": [
    "# CFHybrid weighting matrix\n",
    "def getCFWeightMatrix():\n",
    "    # key: user_id, value: [a b], where a is how many kNN is better and b is how many embedding better for that user\n",
    "    d = dict()\n",
    "    \n",
    "    def addToDict(d, u, i):\n",
    "        ''' d is the dictionary to add to\n",
    "            u is user_id\n",
    "            i is 0 or 1. 0 meaning kNN and 1 meaning embeddnet\n",
    "        '''\n",
    "        if u in d:\n",
    "            if i == 0: d[u][0] += 1\n",
    "            else:      d[u][1] += 1\n",
    "        else:\n",
    "            if i == 0: d[u] = [1, 0]\n",
    "            else:      d[u] = [0, 1]\n",
    "        return d\n",
    "    \n",
    "    def change2Probabilities(d):\n",
    "        '''assuming d is done. now we just calculate probabilities for each list instead of counts'''\n",
    "        d_new = dict()\n",
    "        for k,v in d.items():\n",
    "            total = sum(v)\n",
    "            d_new[k] = list(map(lambda x: x/total,v))\n",
    "        return d_new\n",
    "    \n",
    "    # make trn_data only have user_id, business_id\n",
    "#     kNN_preds = kNN_Yelp(user_data, trn_data[['user_id','business_id']], n_neighbors=4)\n",
    "    correct = trn_data['stars']\n",
    "    users = trn_data['user_id']\n",
    "    for i in range(len(flat_preds)):\n",
    "        # if kNN did better for that user\n",
    "        if abs(kNN_preds[i] - correct[i]) > abs(flat_preds[i] - correct[i]):\n",
    "            addToDict(d, users[i], 0)\n",
    "        else:\n",
    "            addToDict(d, users[i], 1)\n",
    "    \n",
    "    return change2Probabilities(d)"
   ]
  },
  {
   "cell_type": "code",
   "execution_count": 83,
   "metadata": {},
   "outputs": [],
   "source": [
    "def evaluation():\n",
    "    last_predictions = []\n",
    "    d = getCFWeightMatrix()\n",
    "    eval_val = val_queries.drop('Unnamed: 0',axis=1)\n",
    "#     kNN_preds = kNN_Yelp(user_data, val_data, n_neighbors=4)\n",
    "    users = eval_val.user_id\n",
    "    for i in range(len(eval_val)):\n",
    "        u = users[i]\n",
    "        alpha, beta = .5, .5\n",
    "        if u in d:\n",
    "            alpha = d[u][0]\n",
    "            beta = d[u][1]\n",
    "        last_predictions.append(alpha * kNN_preds[i] + beta * flat_preds[i])\n",
    "    return last_predictions"
   ]
  },
  {
   "cell_type": "code",
   "execution_count": 84,
   "metadata": {},
   "outputs": [
    {
     "data": {
      "text/plain": [
       "1.28737386963196"
      ]
     },
     "execution_count": 84,
     "metadata": {},
     "output_type": "execute_result"
    }
   ],
   "source": [
    "y_predicted = evaluation()\n",
    "y_actual = val_queries.stars.values\n",
    "rmse_error = sqrt(mean_squared_error(y_actual, y_predicted))\n",
    "rmse_error"
   ]
  },
  {
   "cell_type": "markdown",
   "metadata": {},
   "source": [
    "## Tuning"
   ]
  },
  {
   "cell_type": "code",
   "execution_count": 230,
   "metadata": {},
   "outputs": [
    {
     "data": {
      "text/plain": [
       "1.1763020966576545"
      ]
     },
     "execution_count": 230,
     "metadata": {},
     "output_type": "execute_result"
    }
   ],
   "source": [
    "from sklearn.metrics import mean_squared_error\n",
    "from math import sqrt\n",
    "# probably shouldn't be using lists as preds\n",
    "y_predicted = kNN_preds\n",
    "y_actual = val_queries.stars.values\n",
    "rmse_error = sqrt(mean_squared_error(y_actual, y_predicted))\n",
    "rmse_error "
   ]
  },
  {
   "cell_type": "code",
   "execution_count": 233,
   "metadata": {},
   "outputs": [
    {
     "data": {
      "text/plain": [
       "1.1868909683534463"
      ]
     },
     "execution_count": 233,
     "metadata": {},
     "output_type": "execute_result"
    }
   ],
   "source": [
    "from sklearn.metrics import mean_squared_error\n",
    "from math import sqrt\n",
    "# probably shouldn't be using lists as preds\n",
    "\n",
    "y_predicted = [(g+h)/2 for g,h in zip(flat_preds,kNN_preds)]\n",
    "y_actual = val_queries.stars.values\n",
    "rmse_error = sqrt(mean_squared_error(y_actual, y_predicted))\n",
    "rmse_error "
   ]
  },
  {
   "cell_type": "markdown",
   "metadata": {},
   "source": [
    "User based collaborative filtering isn't bad. 1.12is a pretty good score from 500 samples. Training took forever. Of course sparsity is still an issue. after running entire training set, KNN gave 1.5 error which is really bad. "
   ]
  },
  {
   "cell_type": "markdown",
   "metadata": {
    "heading_collapsed": true
   },
   "source": [
    "## Random Forest, XGBoost\n",
    "\n",
    "With the sparsity issue, I think RF and XGBoost are promising"
   ]
  },
  {
   "cell_type": "code",
   "execution_count": 396,
   "metadata": {
    "hidden": true
   },
   "outputs": [],
   "source": [
    "from sklearn.linear_model import ElasticNet, Lasso,  BayesianRidge, LassoLarsIC\n",
    "from sklearn.ensemble import RandomForestRegressor,  GradientBoostingRegressor\n",
    "from sklearn.kernel_ridge import KernelRidge\n",
    "from sklearn.pipeline import make_pipeline\n",
    "from sklearn.preprocessing import RobustScaler\n",
    "from sklearn.base import BaseEstimator, TransformerMixin, RegressorMixin, clone\n",
    "from sklearn.model_selection import KFold, cross_val_score, train_test_split\n",
    "from sklearn.metrics import mean_squared_error\n",
    "import xgboost as xgb\n",
    "import lightgbm as lgb"
   ]
  },
  {
   "cell_type": "code",
   "execution_count": null,
   "metadata": {
    "hidden": true
   },
   "outputs": [],
   "source": [
    "# an use RF Regressor for feature selection\n",
    "# X_train:  would just be x_users\n",
    "# y_train: ???\n",
    "# X_val = the users profile in df_users\n",
    "# y_va; = val_queries.stars"
   ]
  },
  {
   "cell_type": "markdown",
   "metadata": {},
   "source": [
    "# Content Based-Filtering\n",
    "Content-based filtering approaches leverage description or attributes from items the user has interacted to recommend similar items. It depends only on the user previous choices, making this method robust to avoid the *cold-start* problem.\n",
    "For textual items, like articles, news and books, it is simple to use the raw text to build item profiles and user profiles.  "
   ]
  },
  {
   "cell_type": "markdown",
   "metadata": {},
   "source": [
    "## BDTR"
   ]
  },
  {
   "cell_type": "markdown",
   "metadata": {
    "heading_collapsed": true
   },
   "source": [
    "### Missing"
   ]
  },
  {
   "cell_type": "code",
   "execution_count": 102,
   "metadata": {
    "hidden": true
   },
   "outputs": [
    {
     "data": {
      "text/plain": [
       "<matplotlib.axes._subplots.AxesSubplot at 0x253f0018320>"
      ]
     },
     "execution_count": 102,
     "metadata": {},
     "output_type": "execute_result"
    },
    {
     "data": {
      "image/png": "[encoded data removed]",
      "text/plain": [
       "<Figure size 432x288 with 1 Axes>"
      ]
     },
     "metadata": {
      "needs_background": "light"
     },
     "output_type": "display_data"
    }
   ],
   "source": [
    "bus_missing= bus_bdtr.isnull().sum()\n",
    "bus_missing = bus_missing[bus_missing > 0]\n",
    "bus_missing.sort_values(inplace=True)\n",
    "bus_missing.plot.bar()"
   ]
  },
  {
   "cell_type": "code",
   "execution_count": 212,
   "metadata": {
    "collapsed": true,
    "hidden": true
   },
   "outputs": [
    {
     "data": {
      "text/plain": [
       "average_stars         0\n",
       "compliment_cool       0\n",
       "compliment_cute       0\n",
       "compliment_funny      0\n",
       "compliment_hot        0\n",
       "compliment_list       0\n",
       "compliment_more       0\n",
       "compliment_note       0\n",
       "compliment_photos     0\n",
       "compliment_plain      0\n",
       "compliment_profile    0\n",
       "compliment_writer     0\n",
       "cool                  0\n",
       "fans                  0\n",
       "funny                 0\n",
       "review_count          0\n",
       "useful                0\n",
       "dtype: int64"
      ]
     },
     "execution_count": 212,
     "metadata": {},
     "output_type": "execute_result"
    }
   ],
   "source": [
    "user_missing = user_bdtr.isnull().sum()\n",
    "user_missing\n",
    "# user_missing = user_missing[user_missing > 0]\n",
    "# user_missing.sort_values(inplace=True)\n",
    "# user_missing.plot.bar()"
   ]
  },
  {
   "cell_type": "markdown",
   "metadata": {
    "hidden": true
   },
   "source": [
    "lots of features starting with attributes missing values. user data not missing anything"
   ]
  },
  {
   "cell_type": "markdown",
   "metadata": {
    "hidden": true
   },
   "source": [
    "#### Imputation with clearly out of bounds values"
   ]
  },
  {
   "cell_type": "markdown",
   "metadata": {},
   "source": [
    "### Kmeans\n",
    "Clustering the businesses into categories"
   ]
  },
  {
   "cell_type": "code",
   "execution_count": 424,
   "metadata": {},
   "outputs": [],
   "source": [
    "# bad features: all the ones that start with 'attirbutes'. I need to fillna(-1, inplace=True). use a value not in range\n",
    "# iffy features that I can try adding later: neighborhood, name, city, categories\n",
    "bus_bdtr = df_business[['latitude', 'longitude','review_count', 'average_stars']].copy()\n",
    "# bus_bdtr['business_id'] = bus_bdtr['business_id'].apply(lambda x: business2idx[x])"
   ]
  },
  {
   "cell_type": "code",
   "execution_count": 421,
   "metadata": {
    "scrolled": false
   },
   "outputs": [
    {
     "data": {
      "text/html": [
       "<div>\n",
       "<style scoped>\n",
       "    .dataframe tbody tr th:only-of-type {\n",
       "        vertical-align: middle;\n",
       "    }\n",
       "\n",
       "    .dataframe tbody tr th {\n",
       "        vertical-align: top;\n",
       "    }\n",
       "\n",
       "    .dataframe thead th {\n",
       "        text-align: right;\n",
       "    }\n",
       "</style>\n",
       "<table border=\"1\" class=\"dataframe\">\n",
       "  <thead>\n",
       "    <tr style=\"text-align: right;\">\n",
       "      <th></th>\n",
       "      <th>latitude</th>\n",
       "      <th>longitude</th>\n",
       "      <th>review_count</th>\n",
       "      <th>stars</th>\n",
       "    </tr>\n",
       "  </thead>\n",
       "  <tbody>\n",
       "    <tr>\n",
       "      <th>0</th>\n",
       "      <td>43.664125</td>\n",
       "      <td>-79.411886</td>\n",
       "      <td>146</td>\n",
       "      <td>4.0</td>\n",
       "    </tr>\n",
       "    <tr>\n",
       "      <th>1</th>\n",
       "      <td>33.479807</td>\n",
       "      <td>-112.091188</td>\n",
       "      <td>277</td>\n",
       "      <td>4.0</td>\n",
       "    </tr>\n",
       "    <tr>\n",
       "      <th>2</th>\n",
       "      <td>43.149488</td>\n",
       "      <td>-89.206641</td>\n",
       "      <td>102</td>\n",
       "      <td>4.5</td>\n",
       "    </tr>\n",
       "    <tr>\n",
       "      <th>3</th>\n",
       "      <td>36.201990</td>\n",
       "      <td>-115.283122</td>\n",
       "      <td>242</td>\n",
       "      <td>4.0</td>\n",
       "    </tr>\n",
       "    <tr>\n",
       "      <th>4</th>\n",
       "      <td>33.639774</td>\n",
       "      <td>-112.087738</td>\n",
       "      <td>230</td>\n",
       "      <td>3.5</td>\n",
       "    </tr>\n",
       "  </tbody>\n",
       "</table>\n",
       "</div>"
      ],
      "text/plain": [
       "    latitude   longitude  review_count  stars\n",
       "0  43.664125  -79.411886           146    4.0\n",
       "1  33.479807 -112.091188           277    4.0\n",
       "2  43.149488  -89.206641           102    4.5\n",
       "3  36.201990 -115.283122           242    4.0\n",
       "4  33.639774 -112.087738           230    3.5"
      ]
     },
     "execution_count": 421,
     "metadata": {},
     "output_type": "execute_result"
    }
   ],
   "source": [
    "bus_bdtr.head()"
   ]
  },
  {
   "cell_type": "markdown",
   "metadata": {
    "heading_collapsed": true
   },
   "source": [
    "#### Agglomerative Hiearchial Clustering: Instead of Kmeans\n",
    "usually produces better k more more expensive. "
   ]
  },
  {
   "cell_type": "code",
   "execution_count": 139,
   "metadata": {
    "hidden": true
   },
   "outputs": [],
   "source": [
    "import scipy.cluster.hierarchy as sch\n",
    "from sklearn.cluster import AgglomerativeClustering"
   ]
  },
  {
   "cell_type": "code",
   "execution_count": null,
   "metadata": {
    "hidden": true
   },
   "outputs": [],
   "source": [
    "# # create dendrogram\n",
    "# dendrogram = sch.dendrogram(sch.linkage(bus_bdtr, method='ward'))\n",
    "# # create clusters\n",
    "# hc = AgglomerativeClustering(n_clusters=4, affinity = 'euclidean', linkage = 'ward')\n",
    "# # save clusters for chart\n",
    "# y_hc = hc.fit_predict(bus_bdtr)"
   ]
  },
  {
   "cell_type": "markdown",
   "metadata": {},
   "source": [
    "#### Actual kmeans on df_business"
   ]
  },
  {
   "cell_type": "code",
   "execution_count": null,
   "metadata": {},
   "outputs": [],
   "source": [
    "# determine how many clusters there should be using silhouette_score\n",
    "# from sklearn.cluster import KMeans\n",
    "# from sklearn.metrics import silhouette_score\n",
    "\n",
    "# range_n_clusters = [2, 3, 4]            # clusters range you want to select\n",
    "# dataToFit = [[12,23],[112,46],[45,23]]  # sample data\n",
    "# best_clusters = 0                       # best cluster number which you will get\n",
    "# previous_silh_avg = 0.0\n",
    "\n",
    "# for n_clusters in range_n_clusters:\n",
    "#     clusterer = KMeans(n_clusters=n_clusters)\n",
    "#     cluster_labels = clusterer.fit_predict(dataToFit)\n",
    "#     silhouette_avg = silhouette_score(dataToFit, cluster_labels)\n",
    "#     if silhouette_avg > previous_silh_avg:\n",
    "#         previous_silh_avg = silhouette_avg\n",
    "#         best_clusters = n_clusters\n",
    "\n",
    "# # Final Kmeans for best_clusters\n",
    "# kmeans = KMeans(n_clusters=best_clusters, random_state=0).fit(dataToFit)"
   ]
  },
  {
   "cell_type": "code",
   "execution_count": 426,
   "metadata": {},
   "outputs": [],
   "source": [
    "from sklearn.cluster import KMeans\n",
    "\n",
    "# test multiple n_clusters\n",
    "# # for i in range(4,10): \n",
    "kmeans = KMeans(n_clusters=5)\n",
    "bus_bdtr['category'] = kmeans.fit_predict(bus_bdtr)"
   ]
  },
  {
   "cell_type": "markdown",
   "metadata": {},
   "source": [
    "### BDTR Model"
   ]
  },
  {
   "cell_type": "code",
   "execution_count": 440,
   "metadata": {},
   "outputs": [],
   "source": [
    "bus_bdtr = bus_bdtr[['latitude', 'longitude', 'review_count', 'average_stars', 'category']]\n",
    "user_bdtr = user_data[['average_stars', 'fans', 'review_count']]"
   ]
  },
  {
   "cell_type": "code",
   "execution_count": 441,
   "metadata": {},
   "outputs": [],
   "source": [
    "def makeBDTRMatrix(input_data):\n",
    "    ''' Format is: User features|Business features|Rating\n",
    "    '''       \n",
    "    def getAvgCatStars(ub, cats, X):\n",
    "        ''' This is the content-filtering part as ur making the connection between user and business\n",
    "\n",
    "            Input:  ub is trn_data but in dictionary form, cat is categories that each business_id (the index) belongs to\n",
    "            Output: Average user review of every business_id. If a business isn't in trn_data use user average\n",
    "        '''            \n",
    "        # key is category, value is just a list of list of stars\n",
    "        # belonging to each category. each star represents the rating one user gave it in reviews\n",
    "        cat_dict = dict()\n",
    "        num_categories = cats.max()+1\n",
    "        \n",
    "        # For all users, crate a list of lists. user_id is just the index\n",
    "        for u in range(len(user_bdtr)):\n",
    "            cat_dict[u] = [[] for _ in range(num_categories)]\n",
    "        \n",
    "        # For training set, add the rating into the user category matrix\n",
    "        for (u, b), s in ub.items():\n",
    "            c = cats[b]    # c is the category that business b belongs to\n",
    "            cat_dict[u][c].append(s)\n",
    "\n",
    "        # now find average for each category for each user\n",
    "#         ud = getUserAvgDict(X)   # gets the average of each user in X\n",
    "\n",
    "        for u, v in cat_dict.items():\n",
    "            for c in range(num_categories):\n",
    "                # if the user has never done anything in this category, leave the []\n",
    "                if cat_dict[u][c] != []:\n",
    "                    cat_dict[u][c] = np.mean(cat_dict[u][c])\n",
    "        return cat_dict\n",
    "    data_ = input_data[['business_id','user_id','stars']].copy()\n",
    "    d = data_.values\n",
    "    res = pd.DataFrame()\n",
    "    ub = getUBDict()\n",
    "    ud = getUserAvgDict(input_data)\n",
    "    cats = bus_bdtr['category'].values\n",
    "    avg_cats = getAvgCatStars(ub, cats, trn_data[['user_id','business_id']])\n",
    "    # Make column for the average user rating for each category\n",
    "    avg_col = []\n",
    "    for v in d:\n",
    "        u = int(v[1])\n",
    "        b = int(v[0])\n",
    "        c = cats[b]\n",
    "        if avg_cats[u][c] == []:\n",
    "            avg_col.append(ud[u])\n",
    "        else:\n",
    "            avg_col.append(avg_cats[u][c])\n",
    "    res['UserAvg4Category'] = avg_col\n",
    "    # Replace business and user Id's with their corresponding features \n",
    "    bus_features = pd.DataFrame(columns=bus_bdtr.columns) \n",
    "    user_features = pd.DataFrame(columns=user_bdtr.columns)\n",
    "    u_vals = user_bdtr.values\n",
    "    b_vals = bus_bdtr.values\n",
    "    \n",
    "    for v in tqdm(d, desc='Final Matrix'): # [b, u , s]\n",
    "        # user id's are in order for user_data so no need for user_id column since its just the index\n",
    "        u = int(v[1])\n",
    "        b = int(v[0])\n",
    "        user_features = user_features.append(pd.Series(u_vals[u], index=user_features.columns),ignore_index=True)\n",
    "        bus_features = bus_features.append(pd.Series(b_vals[b], index=bus_features.columns), ignore_index=True)\n",
    "    # first join user_bdtr and bus_bdtrface\n",
    "#     print('Missing Values in Users\\n')\n",
    "#     print(user_features.isnull().sum(axis=1))\n",
    "    \n",
    "    res = pd.concat([user_features, res, bus_features], axis=1, sort=False)\n",
    "    return res"
   ]
  },
  {
   "cell_type": "code",
   "execution_count": 442,
   "metadata": {},
   "outputs": [],
   "source": [
    "from sklearn.tree import DecisionTreeRegressor\n",
    "\n",
    "def BDTR(X_train, y_train, X_test):\n",
    "    '''Gives the predictions of BDTR model'''\n",
    "    regressor = DecisionTreeRegressor()\n",
    "    regressor.fit(X_train, y_train)\n",
    "    return regressor.predict(X_test)"
   ]
  },
  {
   "cell_type": "markdown",
   "metadata": {},
   "source": [
    "### BDTR Preds"
   ]
  },
  {
   "cell_type": "code",
   "execution_count": 443,
   "metadata": {},
   "outputs": [
    {
     "name": "stdout",
     "output_type": "stream",
     "text": [
      "UBDict: 100%|██████████████████████████████████████████████████████████████| 150232/150232 [00:00<00:00, 843068.51it/s]\n",
      "UserAvgDict: 100%|██████████████████████████████████████████████████████████| 16556/16556 [00:00<00:00, 2069958.48it/s]\n"
     ]
    },
    {
     "name": "stderr",
     "output_type": "stream",
     "text": [
      "D:\\Users\\aznro\\Anaconda3\\envs\\fastai\\lib\\site-packages\\ipykernel_launcher.py:46: DeprecationWarning: The truth value of an empty array is ambiguous. Returning False, but in future this will result in an error. Use `array.size > 0` to check that an array is not empty.\n"
     ]
    },
    {
     "name": "stdout",
     "output_type": "stream",
     "text": [
      "Final Matrix: 100%|███████████████████████████████████████████████████████████| 150232/150232 [08:47<00:00, 285.04it/s]\n"
     ]
    },
    {
     "data": {
      "text/html": [
       "<div>\n",
       "<style scoped>\n",
       "    .dataframe tbody tr th:only-of-type {\n",
       "        vertical-align: middle;\n",
       "    }\n",
       "\n",
       "    .dataframe tbody tr th {\n",
       "        vertical-align: top;\n",
       "    }\n",
       "\n",
       "    .dataframe thead th {\n",
       "        text-align: right;\n",
       "    }\n",
       "</style>\n",
       "<table border=\"1\" class=\"dataframe\">\n",
       "  <thead>\n",
       "    <tr style=\"text-align: right;\">\n",
       "      <th></th>\n",
       "      <th>average_stars</th>\n",
       "      <th>fans</th>\n",
       "      <th>review_count</th>\n",
       "      <th>UserAvg4Category</th>\n",
       "      <th>latitude</th>\n",
       "      <th>longitude</th>\n",
       "      <th>review_count</th>\n",
       "      <th>average_stars</th>\n",
       "      <th>category</th>\n",
       "    </tr>\n",
       "  </thead>\n",
       "  <tbody>\n",
       "    <tr>\n",
       "      <th>0</th>\n",
       "      <td>4.50</td>\n",
       "      <td>0.0</td>\n",
       "      <td>4.0</td>\n",
       "      <td>4.500000</td>\n",
       "      <td>43.072715</td>\n",
       "      <td>-89.384413</td>\n",
       "      <td>128.0</td>\n",
       "      <td>4.0</td>\n",
       "      <td>1.0</td>\n",
       "    </tr>\n",
       "    <tr>\n",
       "      <th>1</th>\n",
       "      <td>3.96</td>\n",
       "      <td>238.0</td>\n",
       "      <td>2100.0</td>\n",
       "      <td>4.500000</td>\n",
       "      <td>33.479016</td>\n",
       "      <td>-112.047963</td>\n",
       "      <td>1344.0</td>\n",
       "      <td>4.0</td>\n",
       "      <td>4.0</td>\n",
       "    </tr>\n",
       "    <tr>\n",
       "      <th>2</th>\n",
       "      <td>3.96</td>\n",
       "      <td>238.0</td>\n",
       "      <td>2100.0</td>\n",
       "      <td>4.333333</td>\n",
       "      <td>36.104614</td>\n",
       "      <td>-115.176021</td>\n",
       "      <td>2666.0</td>\n",
       "      <td>2.5</td>\n",
       "      <td>3.0</td>\n",
       "    </tr>\n",
       "    <tr>\n",
       "      <th>3</th>\n",
       "      <td>3.96</td>\n",
       "      <td>238.0</td>\n",
       "      <td>2100.0</td>\n",
       "      <td>3.600000</td>\n",
       "      <td>36.098268</td>\n",
       "      <td>-115.167405</td>\n",
       "      <td>173.0</td>\n",
       "      <td>3.5</td>\n",
       "      <td>1.0</td>\n",
       "    </tr>\n",
       "    <tr>\n",
       "      <th>4</th>\n",
       "      <td>3.96</td>\n",
       "      <td>238.0</td>\n",
       "      <td>2100.0</td>\n",
       "      <td>4.625000</td>\n",
       "      <td>36.104613</td>\n",
       "      <td>-115.174527</td>\n",
       "      <td>311.0</td>\n",
       "      <td>4.5</td>\n",
       "      <td>0.0</td>\n",
       "    </tr>\n",
       "  </tbody>\n",
       "</table>\n",
       "</div>"
      ],
      "text/plain": [
       "   average_stars   fans  review_count  UserAvg4Category   latitude  \\\n",
       "0           4.50    0.0           4.0          4.500000  43.072715   \n",
       "1           3.96  238.0        2100.0          4.500000  33.479016   \n",
       "2           3.96  238.0        2100.0          4.333333  36.104614   \n",
       "3           3.96  238.0        2100.0          3.600000  36.098268   \n",
       "4           3.96  238.0        2100.0          4.625000  36.104613   \n",
       "\n",
       "    longitude  review_count  average_stars  category  \n",
       "0  -89.384413         128.0            4.0       1.0  \n",
       "1 -112.047963        1344.0            4.0       4.0  \n",
       "2 -115.176021        2666.0            2.5       3.0  \n",
       "3 -115.167405         173.0            3.5       1.0  \n",
       "4 -115.174527         311.0            4.5       0.0  "
      ]
     },
     "execution_count": 443,
     "metadata": {},
     "output_type": "execute_result"
    }
   ],
   "source": [
    "trn_bdtr = makeBDTRMatrix(trn_data)\n",
    "trn_bdtr.head()"
   ]
  },
  {
   "cell_type": "code",
   "execution_count": 444,
   "metadata": {
    "scrolled": true
   },
   "outputs": [
    {
     "name": "stdout",
     "output_type": "stream",
     "text": [
      "UBDict: 100%|██████████████████████████████████████████████████████████████| 150232/150232 [00:00<00:00, 749326.84it/s]\n",
      "UserAvgDict: 100%|██████████████████████████████████████████████████████████| 14145/14145 [00:00<00:00, 2026036.61it/s]\n"
     ]
    },
    {
     "name": "stderr",
     "output_type": "stream",
     "text": [
      "D:\\Users\\aznro\\Anaconda3\\envs\\fastai\\lib\\site-packages\\ipykernel_launcher.py:46: DeprecationWarning: The truth value of an empty array is ambiguous. Returning False, but in future this will result in an error. Use `array.size > 0` to check that an array is not empty.\n"
     ]
    },
    {
     "name": "stdout",
     "output_type": "stream",
     "text": [
      "Final Matrix: 100%|█████████████████████████████████████████████████████████████| 50077/50077 [01:17<00:00, 647.69it/s]\n"
     ]
    },
    {
     "data": {
      "text/html": [
       "<div>\n",
       "<style scoped>\n",
       "    .dataframe tbody tr th:only-of-type {\n",
       "        vertical-align: middle;\n",
       "    }\n",
       "\n",
       "    .dataframe tbody tr th {\n",
       "        vertical-align: top;\n",
       "    }\n",
       "\n",
       "    .dataframe thead th {\n",
       "        text-align: right;\n",
       "    }\n",
       "</style>\n",
       "<table border=\"1\" class=\"dataframe\">\n",
       "  <thead>\n",
       "    <tr style=\"text-align: right;\">\n",
       "      <th></th>\n",
       "      <th>average_stars</th>\n",
       "      <th>fans</th>\n",
       "      <th>review_count</th>\n",
       "      <th>UserAvg4Category</th>\n",
       "      <th>latitude</th>\n",
       "      <th>longitude</th>\n",
       "      <th>review_count</th>\n",
       "      <th>average_stars</th>\n",
       "      <th>category</th>\n",
       "    </tr>\n",
       "  </thead>\n",
       "  <tbody>\n",
       "    <tr>\n",
       "      <th>0</th>\n",
       "      <td>2.63</td>\n",
       "      <td>0.0</td>\n",
       "      <td>6.0</td>\n",
       "      <td>2.63</td>\n",
       "      <td>36.158475</td>\n",
       "      <td>-115.126550</td>\n",
       "      <td>1492.0</td>\n",
       "      <td>4.0</td>\n",
       "      <td>4.0</td>\n",
       "    </tr>\n",
       "    <tr>\n",
       "      <th>1</th>\n",
       "      <td>3.78</td>\n",
       "      <td>20.0</td>\n",
       "      <td>654.0</td>\n",
       "      <td>4.00</td>\n",
       "      <td>43.649994</td>\n",
       "      <td>-79.383952</td>\n",
       "      <td>208.0</td>\n",
       "      <td>4.0</td>\n",
       "      <td>1.0</td>\n",
       "    </tr>\n",
       "    <tr>\n",
       "      <th>2</th>\n",
       "      <td>3.48</td>\n",
       "      <td>8.0</td>\n",
       "      <td>120.0</td>\n",
       "      <td>4.00</td>\n",
       "      <td>36.110195</td>\n",
       "      <td>-115.173698</td>\n",
       "      <td>854.0</td>\n",
       "      <td>4.0</td>\n",
       "      <td>4.0</td>\n",
       "    </tr>\n",
       "    <tr>\n",
       "      <th>3</th>\n",
       "      <td>3.47</td>\n",
       "      <td>11.0</td>\n",
       "      <td>49.0</td>\n",
       "      <td>3.47</td>\n",
       "      <td>43.803192</td>\n",
       "      <td>-79.419510</td>\n",
       "      <td>396.0</td>\n",
       "      <td>4.5</td>\n",
       "      <td>0.0</td>\n",
       "    </tr>\n",
       "    <tr>\n",
       "      <th>4</th>\n",
       "      <td>4.13</td>\n",
       "      <td>0.0</td>\n",
       "      <td>38.0</td>\n",
       "      <td>4.13</td>\n",
       "      <td>36.127429</td>\n",
       "      <td>-115.224072</td>\n",
       "      <td>1317.0</td>\n",
       "      <td>4.0</td>\n",
       "      <td>4.0</td>\n",
       "    </tr>\n",
       "  </tbody>\n",
       "</table>\n",
       "</div>"
      ],
      "text/plain": [
       "   average_stars  fans  review_count  UserAvg4Category   latitude   longitude  \\\n",
       "0           2.63   0.0           6.0              2.63  36.158475 -115.126550   \n",
       "1           3.78  20.0         654.0              4.00  43.649994  -79.383952   \n",
       "2           3.48   8.0         120.0              4.00  36.110195 -115.173698   \n",
       "3           3.47  11.0          49.0              3.47  43.803192  -79.419510   \n",
       "4           4.13   0.0          38.0              4.13  36.127429 -115.224072   \n",
       "\n",
       "   review_count  average_stars  category  \n",
       "0        1492.0            4.0       4.0  \n",
       "1         208.0            4.0       1.0  \n",
       "2         854.0            4.0       4.0  \n",
       "3         396.0            4.5       0.0  \n",
       "4        1317.0            4.0       4.0  "
      ]
     },
     "execution_count": 444,
     "metadata": {},
     "output_type": "execute_result"
    }
   ],
   "source": [
    "X_test = val_data.copy()\n",
    "X_test['stars'] = val_queries.stars\n",
    "val_bdtr = makeBDTRMatrix(X_test)\n",
    "val_bdtr.head()"
   ]
  },
  {
   "cell_type": "code",
   "execution_count": 445,
   "metadata": {},
   "outputs": [],
   "source": [
    "y_bdtr = trn_data['stars']\n",
    "\n",
    "preds_bdtr = BDTR(trn_bdtr, y_bdtr, val_bdtr)"
   ]
  },
  {
   "cell_type": "code",
   "execution_count": 446,
   "metadata": {},
   "outputs": [
    {
     "data": {
      "text/plain": [
       "1.4822067053738217"
      ]
     },
     "execution_count": 446,
     "metadata": {},
     "output_type": "execute_result"
    }
   ],
   "source": [
    "assert(len(val_queries) == len(preds_bdtr))\n",
    "y_predicted = preds_bdtr\n",
    "y_actual = val_queries.stars.values\n",
    "rmse_error = sqrt(mean_squared_error(y_actual, y_predicted))\n",
    "rmse_error"
   ]
  },
  {
   "cell_type": "markdown",
   "metadata": {},
   "source": [
    "# Hybrid "
   ]
  },
  {
   "cell_type": "markdown",
   "metadata": {},
   "source": [
    "## BDTR + KNN"
   ]
  },
  {
   "cell_type": "code",
   "execution_count": 439,
   "metadata": {},
   "outputs": [
    {
     "data": {
      "text/plain": [
       "1.654273714322605"
      ]
     },
     "execution_count": 439,
     "metadata": {},
     "output_type": "execute_result"
    }
   ],
   "source": [
    "import math\n",
    "# I'm just going to multiply the scores and then run it into a sigmoid*range\n",
    "def sigmoid(x):\n",
    "    return 1 / (1 + math.exp(-x))\n",
    "hybrid_preds = []\n",
    "for a,b in zip(preds_bdtr, kNN_preds):\n",
    "    hybrid_preds.append(sigmoid(a*b) * 5)\n",
    "    \n",
    "y_predicted = hybrid_preds\n",
    "y_actual = val_queries.stars.values\n",
    "rmse_error = sqrt(mean_squared_error(y_actual, y_predicted))\n",
    "rmse_error"
   ]
  },
  {
   "cell_type": "code",
   "execution_count": null,
   "metadata": {},
   "outputs": [],
   "source": []
  },
  {
   "cell_type": "markdown",
   "metadata": {},
   "source": [
    "# TODO:\n",
    "- Skorch Cross validation and Hyperparameter tuning + adding SGDR, adamW \n",
    "- use confusion matrix, plot graphs...\n",
    "- Cross val K for KNN\n",
    "- Try:\n",
    "    - Have to throw out users that have review_counts lower than certain number for item-item similarity model\n",
    "    - Have to do the same for businesses\n",
    "\n"
   ]
  },
  {
   "cell_type": "code",
   "execution_count": null,
   "metadata": {},
   "outputs": [],
   "source": []
  }
 ],
 "metadata": {
  "kernelspec": {
   "display_name": "Python 3",
   "language": "python",
   "name": "python3"
  },
  "language_info": {
   "codemirror_mode": {
    "name": "ipython",
    "version": 3
   },
   "file_extension": ".py",
   "mimetype": "text/x-python",
   "name": "python",
   "nbconvert_exporter": "python",
   "pygments_lexer": "ipython3",
   "version": "3.6.6"
  },
  "varInspector": {
   "cols": {
    "lenName": 16,
    "lenType": 16,
    "lenVar": 40
   },
   "kernels_config": {
    "python": {
     "delete_cmd_postfix": "",
     "delete_cmd_prefix": "del ",
     "library": "var_list.py",
     "varRefreshCmd": "print(var_dic_list())"
    },
    "r": {
     "delete_cmd_postfix": ") ",
     "delete_cmd_prefix": "rm(",
     "library": "var_list.r",
     "varRefreshCmd": "cat(var_dic_list()) "
    }
   },
   "types_to_exclude": [
    "module",
    "function",
    "builtin_function_or_method",
    "instance",
    "_Feature"
   ],
   "window_display": false
  }
 },
 "nbformat": 4,
 "nbformat_minor": 2
}
